{
 "cells": [
  {
   "cell_type": "code",
   "execution_count": 1,
   "metadata": {},
   "outputs": [],
   "source": [
    "from scipy.sparse.linalg import splu, factorized\n",
    "from scipy.linalg import lu_factor, lu_solve\n",
    "import numpy as np\n",
    "np.set_printoptions(precision=4) # Print few decimal places\n",
    "np.set_printoptions(suppress=True) # Suppress scientific notation\n",
    "import cvxpy as cp\n",
    "import pandas as pd\n",
    "from numpy.linalg import cholesky as llt\n",
    "import matplotlib.pyplot as plt\n",
    "import scipy.stats as stats\n",
    "import time"
   ]
  },
  {
   "cell_type": "markdown",
   "metadata": {},
   "source": [
    "532"
   ]
  },
  {
   "cell_type": "code",
   "execution_count": 234,
   "metadata": {},
   "outputs": [
    {
     "name": "stdout",
     "output_type": "stream",
     "text": [
      "The generated matrix is Positive Definite = True\n",
      "Condition number = 96289.346304354\n"
     ]
    },
    {
     "ename": "ArpackNoConvergence",
     "evalue": "ARPACK error -1: ARPACK error -1: No convergence (2001 iterations, 0/1 eigenvectors converged)\n\n\n        CVXPY note: This failure was encountered while trying to certify\n        that a matrix is positive semi-definite (see [1] for a definition).\n        In rare cases, this method fails for numerical reasons even when the matrix is\n        positive semi-definite. If you know that you're in that situation, you can\n        replace the matrix A by cvxpy.psd_wrap(A).\n\n        [1] https://en.wikipedia.org/wiki/Definite_matrix\n        ",
     "output_type": "error",
     "traceback": [
      "\u001b[1;31m---------------------------------------------------------------------------\u001b[0m",
      "\u001b[1;31mArpackNoConvergence\u001b[0m                       Traceback (most recent call last)",
      "File \u001b[1;32mc:\\Users\\baice\\AppData\\Local\\Programs\\Python\\Python312\\Lib\\site-packages\\cvxpy\\utilities\\linalg.py:113\u001b[0m, in \u001b[0;36mis_psd_within_tol\u001b[1;34m(A, tol)\u001b[0m\n\u001b[0;32m    112\u001b[0m \u001b[38;5;28;01mtry\u001b[39;00m:\n\u001b[1;32m--> 113\u001b[0m     ev \u001b[38;5;241m=\u001b[39m \u001b[43mSA_eigsh\u001b[49m\u001b[43m(\u001b[49m\u001b[38;5;241;43m-\u001b[39;49m\u001b[43mtol\u001b[49m\u001b[43m)\u001b[49m  \u001b[38;5;66;03m# might return np.NaN, or raise exception\u001b[39;00m\n\u001b[0;32m    114\u001b[0m \u001b[38;5;28;01mexcept\u001b[39;00m sparla\u001b[38;5;241m.\u001b[39mArpackNoConvergence \u001b[38;5;28;01mas\u001b[39;00m e:\n\u001b[0;32m    115\u001b[0m     \u001b[38;5;66;03m# This is a numerical issue. We can't certify that A is PSD.\u001b[39;00m\n",
      "File \u001b[1;32mc:\\Users\\baice\\AppData\\Local\\Programs\\Python\\Python312\\Lib\\site-packages\\cvxpy\\utilities\\linalg.py:97\u001b[0m, in \u001b[0;36mis_psd_within_tol.<locals>.SA_eigsh\u001b[1;34m(sigma)\u001b[0m\n\u001b[0;32m     95\u001b[0m v0 \u001b[38;5;241m=\u001b[39m g\u001b[38;5;241m.\u001b[39mnormal(loc\u001b[38;5;241m=\u001b[39m\u001b[38;5;241m0.0\u001b[39m, scale\u001b[38;5;241m=\u001b[39m\u001b[38;5;241m1.0\u001b[39m, size\u001b[38;5;241m=\u001b[39mn)\n\u001b[1;32m---> 97\u001b[0m \u001b[38;5;28;01mreturn\u001b[39;00m \u001b[43msparla\u001b[49m\u001b[38;5;241;43m.\u001b[39;49m\u001b[43meigsh\u001b[49m\u001b[43m(\u001b[49m\u001b[43mA\u001b[49m\u001b[43m,\u001b[49m\u001b[43m \u001b[49m\u001b[43mk\u001b[49m\u001b[38;5;241;43m=\u001b[39;49m\u001b[38;5;241;43m1\u001b[39;49m\u001b[43m,\u001b[49m\u001b[43m \u001b[49m\u001b[43msigma\u001b[49m\u001b[38;5;241;43m=\u001b[39;49m\u001b[43msigma\u001b[49m\u001b[43m,\u001b[49m\u001b[43m \u001b[49m\u001b[43mwhich\u001b[49m\u001b[38;5;241;43m=\u001b[39;49m\u001b[38;5;124;43m'\u001b[39;49m\u001b[38;5;124;43mSA\u001b[39;49m\u001b[38;5;124;43m'\u001b[39;49m\u001b[43m,\u001b[49m\u001b[43m \u001b[49m\u001b[43mv0\u001b[49m\u001b[38;5;241;43m=\u001b[39;49m\u001b[43mv0\u001b[49m\u001b[43m,\u001b[49m\n\u001b[0;32m     98\u001b[0m \u001b[43m                    \u001b[49m\u001b[43mreturn_eigenvectors\u001b[49m\u001b[38;5;241;43m=\u001b[39;49m\u001b[38;5;28;43;01mFalse\u001b[39;49;00m\u001b[43m)\u001b[49m\n",
      "File \u001b[1;32mc:\\Users\\baice\\AppData\\Local\\Programs\\Python\\Python312\\Lib\\site-packages\\scipy\\sparse\\linalg\\_eigen\\arpack\\arpack.py:1700\u001b[0m, in \u001b[0;36meigsh\u001b[1;34m(A, k, M, sigma, which, v0, ncv, maxiter, tol, return_eigenvectors, Minv, OPinv, mode)\u001b[0m\n\u001b[0;32m   1699\u001b[0m \u001b[38;5;28;01mwhile\u001b[39;00m \u001b[38;5;129;01mnot\u001b[39;00m params\u001b[38;5;241m.\u001b[39mconverged:\n\u001b[1;32m-> 1700\u001b[0m     \u001b[43mparams\u001b[49m\u001b[38;5;241;43m.\u001b[39;49m\u001b[43miterate\u001b[49m\u001b[43m(\u001b[49m\u001b[43m)\u001b[49m\n\u001b[0;32m   1702\u001b[0m \u001b[38;5;28;01mreturn\u001b[39;00m params\u001b[38;5;241m.\u001b[39mextract(return_eigenvectors)\n",
      "File \u001b[1;32mc:\\Users\\baice\\AppData\\Local\\Programs\\Python\\Python312\\Lib\\site-packages\\scipy\\sparse\\linalg\\_eigen\\arpack\\arpack.py:571\u001b[0m, in \u001b[0;36m_SymmetricArpackParams.iterate\u001b[1;34m(self)\u001b[0m\n\u001b[0;32m    570\u001b[0m \u001b[38;5;28;01melif\u001b[39;00m \u001b[38;5;28mself\u001b[39m\u001b[38;5;241m.\u001b[39minfo \u001b[38;5;241m==\u001b[39m \u001b[38;5;241m1\u001b[39m:\n\u001b[1;32m--> 571\u001b[0m     \u001b[38;5;28;43mself\u001b[39;49m\u001b[38;5;241;43m.\u001b[39;49m\u001b[43m_raise_no_convergence\u001b[49m\u001b[43m(\u001b[49m\u001b[43m)\u001b[49m\n\u001b[0;32m    572\u001b[0m \u001b[38;5;28;01melse\u001b[39;00m:\n",
      "File \u001b[1;32mc:\\Users\\baice\\AppData\\Local\\Programs\\Python\\Python312\\Lib\\site-packages\\scipy\\sparse\\linalg\\_eigen\\arpack\\arpack.py:377\u001b[0m, in \u001b[0;36m_ArpackParams._raise_no_convergence\u001b[1;34m(self)\u001b[0m\n\u001b[0;32m    376\u001b[0m     k_ok \u001b[38;5;241m=\u001b[39m \u001b[38;5;241m0\u001b[39m\n\u001b[1;32m--> 377\u001b[0m \u001b[38;5;28;01mraise\u001b[39;00m ArpackNoConvergence(msg \u001b[38;5;241m%\u001b[39m (num_iter, k_ok, \u001b[38;5;28mself\u001b[39m\u001b[38;5;241m.\u001b[39mk), ev, vec)\n",
      "\u001b[1;31mArpackNoConvergence\u001b[0m: ARPACK error -1: No convergence (2001 iterations, 0/1 eigenvectors converged)",
      "\nDuring handling of the above exception, another exception occurred:\n",
      "\u001b[1;31mArpackNoConvergence\u001b[0m                       Traceback (most recent call last)",
      "Cell \u001b[1;32mIn[234], line 16\u001b[0m\n\u001b[0;32m     14\u001b[0m objective \u001b[38;5;241m=\u001b[39m cp\u001b[38;5;241m.\u001b[39mMinimize(cp\u001b[38;5;241m.\u001b[39mquad_form(x, A))\n\u001b[0;32m     15\u001b[0m problem \u001b[38;5;241m=\u001b[39m cp\u001b[38;5;241m.\u001b[39mProblem(objective)\n\u001b[1;32m---> 16\u001b[0m \u001b[43mproblem\u001b[49m\u001b[38;5;241;43m.\u001b[39;49m\u001b[43msolve\u001b[49m\u001b[43m(\u001b[49m\u001b[43m)\u001b[49m\n\u001b[0;32m     17\u001b[0m \u001b[38;5;28mprint\u001b[39m(\u001b[38;5;124m\"\u001b[39m\u001b[38;5;124mOptimal value =\u001b[39m\u001b[38;5;124m\"\u001b[39m,problem\u001b[38;5;241m.\u001b[39mvalue)\n",
      "File \u001b[1;32mc:\\Users\\baice\\AppData\\Local\\Programs\\Python\\Python312\\Lib\\site-packages\\cvxpy\\problems\\problem.py:503\u001b[0m, in \u001b[0;36mProblem.solve\u001b[1;34m(self, *args, **kwargs)\u001b[0m\n\u001b[0;32m    501\u001b[0m \u001b[38;5;28;01melse\u001b[39;00m:\n\u001b[0;32m    502\u001b[0m     solve_func \u001b[38;5;241m=\u001b[39m Problem\u001b[38;5;241m.\u001b[39m_solve\n\u001b[1;32m--> 503\u001b[0m \u001b[38;5;28;01mreturn\u001b[39;00m \u001b[43msolve_func\u001b[49m\u001b[43m(\u001b[49m\u001b[38;5;28;43mself\u001b[39;49m\u001b[43m,\u001b[49m\u001b[43m \u001b[49m\u001b[38;5;241;43m*\u001b[39;49m\u001b[43margs\u001b[49m\u001b[43m,\u001b[49m\u001b[43m \u001b[49m\u001b[38;5;241;43m*\u001b[39;49m\u001b[38;5;241;43m*\u001b[39;49m\u001b[43mkwargs\u001b[49m\u001b[43m)\u001b[49m\n",
      "File \u001b[1;32mc:\\Users\\baice\\AppData\\Local\\Programs\\Python\\Python312\\Lib\\site-packages\\cvxpy\\problems\\problem.py:1073\u001b[0m, in \u001b[0;36mProblem._solve\u001b[1;34m(self, solver, warm_start, verbose, gp, qcp, requires_grad, enforce_dpp, ignore_dpp, canon_backend, **kwargs)\u001b[0m\n\u001b[0;32m   1070\u001b[0m         \u001b[38;5;28mself\u001b[39m\u001b[38;5;241m.\u001b[39munpack(chain\u001b[38;5;241m.\u001b[39mretrieve(soln))\n\u001b[0;32m   1071\u001b[0m         \u001b[38;5;28;01mreturn\u001b[39;00m \u001b[38;5;28mself\u001b[39m\u001b[38;5;241m.\u001b[39mvalue\n\u001b[1;32m-> 1073\u001b[0m data, solving_chain, inverse_data \u001b[38;5;241m=\u001b[39m \u001b[38;5;28;43mself\u001b[39;49m\u001b[38;5;241;43m.\u001b[39;49m\u001b[43mget_problem_data\u001b[49m\u001b[43m(\u001b[49m\n\u001b[0;32m   1074\u001b[0m \u001b[43m    \u001b[49m\u001b[43msolver\u001b[49m\u001b[43m,\u001b[49m\u001b[43m \u001b[49m\u001b[43mgp\u001b[49m\u001b[43m,\u001b[49m\u001b[43m \u001b[49m\u001b[43menforce_dpp\u001b[49m\u001b[43m,\u001b[49m\u001b[43m \u001b[49m\u001b[43mignore_dpp\u001b[49m\u001b[43m,\u001b[49m\u001b[43m \u001b[49m\u001b[43mverbose\u001b[49m\u001b[43m,\u001b[49m\u001b[43m \u001b[49m\u001b[43mcanon_backend\u001b[49m\u001b[43m,\u001b[49m\u001b[43m \u001b[49m\u001b[43mkwargs\u001b[49m\n\u001b[0;32m   1075\u001b[0m \u001b[43m\u001b[49m\u001b[43m)\u001b[49m\n\u001b[0;32m   1077\u001b[0m \u001b[38;5;28;01mif\u001b[39;00m verbose:\n\u001b[0;32m   1078\u001b[0m     \u001b[38;5;28mprint\u001b[39m(_NUM_SOLVER_STR)\n",
      "File \u001b[1;32mc:\\Users\\baice\\AppData\\Local\\Programs\\Python\\Python312\\Lib\\site-packages\\cvxpy\\problems\\problem.py:646\u001b[0m, in \u001b[0;36mProblem.get_problem_data\u001b[1;34m(self, solver, gp, enforce_dpp, ignore_dpp, verbose, canon_backend, solver_opts)\u001b[0m\n\u001b[0;32m    644\u001b[0m \u001b[38;5;28;01mif\u001b[39;00m key \u001b[38;5;241m!=\u001b[39m \u001b[38;5;28mself\u001b[39m\u001b[38;5;241m.\u001b[39m_cache\u001b[38;5;241m.\u001b[39mkey:\n\u001b[0;32m    645\u001b[0m     \u001b[38;5;28mself\u001b[39m\u001b[38;5;241m.\u001b[39m_cache\u001b[38;5;241m.\u001b[39minvalidate()\n\u001b[1;32m--> 646\u001b[0m     solving_chain \u001b[38;5;241m=\u001b[39m \u001b[38;5;28;43mself\u001b[39;49m\u001b[38;5;241;43m.\u001b[39;49m\u001b[43m_construct_chain\u001b[49m\u001b[43m(\u001b[49m\n\u001b[0;32m    647\u001b[0m \u001b[43m        \u001b[49m\u001b[43msolver\u001b[49m\u001b[38;5;241;43m=\u001b[39;49m\u001b[43msolver\u001b[49m\u001b[43m,\u001b[49m\u001b[43m \u001b[49m\u001b[43mgp\u001b[49m\u001b[38;5;241;43m=\u001b[39;49m\u001b[43mgp\u001b[49m\u001b[43m,\u001b[49m\n\u001b[0;32m    648\u001b[0m \u001b[43m        \u001b[49m\u001b[43menforce_dpp\u001b[49m\u001b[38;5;241;43m=\u001b[39;49m\u001b[43menforce_dpp\u001b[49m\u001b[43m,\u001b[49m\n\u001b[0;32m    649\u001b[0m \u001b[43m        \u001b[49m\u001b[43mignore_dpp\u001b[49m\u001b[38;5;241;43m=\u001b[39;49m\u001b[43mignore_dpp\u001b[49m\u001b[43m,\u001b[49m\n\u001b[0;32m    650\u001b[0m \u001b[43m        \u001b[49m\u001b[43mcanon_backend\u001b[49m\u001b[38;5;241;43m=\u001b[39;49m\u001b[43mcanon_backend\u001b[49m\u001b[43m,\u001b[49m\n\u001b[0;32m    651\u001b[0m \u001b[43m        \u001b[49m\u001b[43msolver_opts\u001b[49m\u001b[38;5;241;43m=\u001b[39;49m\u001b[43msolver_opts\u001b[49m\u001b[43m)\u001b[49m\n\u001b[0;32m    652\u001b[0m     \u001b[38;5;28mself\u001b[39m\u001b[38;5;241m.\u001b[39m_cache\u001b[38;5;241m.\u001b[39mkey \u001b[38;5;241m=\u001b[39m key\n\u001b[0;32m    653\u001b[0m     \u001b[38;5;28mself\u001b[39m\u001b[38;5;241m.\u001b[39m_cache\u001b[38;5;241m.\u001b[39msolving_chain \u001b[38;5;241m=\u001b[39m solving_chain\n",
      "File \u001b[1;32mc:\\Users\\baice\\AppData\\Local\\Programs\\Python\\Python312\\Lib\\site-packages\\cvxpy\\problems\\problem.py:898\u001b[0m, in \u001b[0;36mProblem._construct_chain\u001b[1;34m(self, solver, gp, enforce_dpp, ignore_dpp, canon_backend, solver_opts)\u001b[0m\n\u001b[0;32m    896\u001b[0m candidate_solvers \u001b[38;5;241m=\u001b[39m \u001b[38;5;28mself\u001b[39m\u001b[38;5;241m.\u001b[39m_find_candidate_solvers(solver\u001b[38;5;241m=\u001b[39msolver, gp\u001b[38;5;241m=\u001b[39mgp)\n\u001b[0;32m    897\u001b[0m \u001b[38;5;28mself\u001b[39m\u001b[38;5;241m.\u001b[39m_sort_candidate_solvers(candidate_solvers)\n\u001b[1;32m--> 898\u001b[0m \u001b[38;5;28;01mreturn\u001b[39;00m \u001b[43mconstruct_solving_chain\u001b[49m\u001b[43m(\u001b[49m\u001b[38;5;28;43mself\u001b[39;49m\u001b[43m,\u001b[49m\u001b[43m \u001b[49m\u001b[43mcandidate_solvers\u001b[49m\u001b[43m,\u001b[49m\u001b[43m \u001b[49m\u001b[43mgp\u001b[49m\u001b[38;5;241;43m=\u001b[39;49m\u001b[43mgp\u001b[49m\u001b[43m,\u001b[49m\n\u001b[0;32m    899\u001b[0m \u001b[43m                               \u001b[49m\u001b[43menforce_dpp\u001b[49m\u001b[38;5;241;43m=\u001b[39;49m\u001b[43menforce_dpp\u001b[49m\u001b[43m,\u001b[49m\n\u001b[0;32m    900\u001b[0m \u001b[43m                               \u001b[49m\u001b[43mignore_dpp\u001b[49m\u001b[38;5;241;43m=\u001b[39;49m\u001b[43mignore_dpp\u001b[49m\u001b[43m,\u001b[49m\n\u001b[0;32m    901\u001b[0m \u001b[43m                               \u001b[49m\u001b[43mcanon_backend\u001b[49m\u001b[38;5;241;43m=\u001b[39;49m\u001b[43mcanon_backend\u001b[49m\u001b[43m,\u001b[49m\n\u001b[0;32m    902\u001b[0m \u001b[43m                               \u001b[49m\u001b[43msolver_opts\u001b[49m\u001b[38;5;241;43m=\u001b[39;49m\u001b[43msolver_opts\u001b[49m\u001b[43m,\u001b[49m\n\u001b[0;32m    903\u001b[0m \u001b[43m                               \u001b[49m\u001b[43mspecified_solver\u001b[49m\u001b[38;5;241;43m=\u001b[39;49m\u001b[43msolver\u001b[49m\u001b[43m)\u001b[49m\n",
      "File \u001b[1;32mc:\\Users\\baice\\AppData\\Local\\Programs\\Python\\Python312\\Lib\\site-packages\\cvxpy\\reductions\\solvers\\solving_chain.py:228\u001b[0m, in \u001b[0;36mconstruct_solving_chain\u001b[1;34m(problem, candidates, gp, enforce_dpp, ignore_dpp, canon_backend, solver_opts, specified_solver)\u001b[0m\n\u001b[0;32m    226\u001b[0m \u001b[38;5;28;01mif\u001b[39;00m \u001b[38;5;28mlen\u001b[39m(problem\u001b[38;5;241m.\u001b[39mvariables()) \u001b[38;5;241m==\u001b[39m \u001b[38;5;241m0\u001b[39m:\n\u001b[0;32m    227\u001b[0m     \u001b[38;5;28;01mreturn\u001b[39;00m SolvingChain(reductions\u001b[38;5;241m=\u001b[39m[ConstantSolver()])\n\u001b[1;32m--> 228\u001b[0m reductions \u001b[38;5;241m=\u001b[39m \u001b[43m_reductions_for_problem_class\u001b[49m\u001b[43m(\u001b[49m\u001b[43mproblem\u001b[49m\u001b[43m,\u001b[49m\u001b[43m \u001b[49m\u001b[43mcandidates\u001b[49m\u001b[43m,\u001b[49m\u001b[43m \u001b[49m\u001b[43mgp\u001b[49m\u001b[43m,\u001b[49m\u001b[43m \u001b[49m\u001b[43msolver_opts\u001b[49m\u001b[43m)\u001b[49m\n\u001b[0;32m    230\u001b[0m \u001b[38;5;66;03m# Process DPP status of the problem.\u001b[39;00m\n\u001b[0;32m    231\u001b[0m dpp_context \u001b[38;5;241m=\u001b[39m \u001b[38;5;124m'\u001b[39m\u001b[38;5;124mdcp\u001b[39m\u001b[38;5;124m'\u001b[39m \u001b[38;5;28;01mif\u001b[39;00m \u001b[38;5;129;01mnot\u001b[39;00m gp \u001b[38;5;28;01melse\u001b[39;00m \u001b[38;5;124m'\u001b[39m\u001b[38;5;124mdgp\u001b[39m\u001b[38;5;124m'\u001b[39m\n",
      "File \u001b[1;32mc:\\Users\\baice\\AppData\\Local\\Programs\\Python\\Python312\\Lib\\site-packages\\cvxpy\\reductions\\solvers\\solving_chain.py:135\u001b[0m, in \u001b[0;36m_reductions_for_problem_class\u001b[1;34m(problem, candidates, gp, solver_opts)\u001b[0m\n\u001b[0;32m    132\u001b[0m \u001b[38;5;28;01mif\u001b[39;00m gp:\n\u001b[0;32m    133\u001b[0m     reductions \u001b[38;5;241m+\u001b[39m\u001b[38;5;241m=\u001b[39m [Dgp2Dcp()]\n\u001b[1;32m--> 135\u001b[0m \u001b[38;5;28;01mif\u001b[39;00m \u001b[38;5;129;01mnot\u001b[39;00m gp \u001b[38;5;129;01mand\u001b[39;00m \u001b[38;5;129;01mnot\u001b[39;00m \u001b[43mproblem\u001b[49m\u001b[38;5;241;43m.\u001b[39;49m\u001b[43mis_dcp\u001b[49m\u001b[43m(\u001b[49m\u001b[43m)\u001b[49m:\n\u001b[0;32m    136\u001b[0m     append \u001b[38;5;241m=\u001b[39m build_non_disciplined_error_msg(problem, \u001b[38;5;124m'\u001b[39m\u001b[38;5;124mDCP\u001b[39m\u001b[38;5;124m'\u001b[39m)\n\u001b[0;32m    137\u001b[0m     \u001b[38;5;28;01mif\u001b[39;00m problem\u001b[38;5;241m.\u001b[39mis_dgp():\n",
      "File \u001b[1;32mc:\\Users\\baice\\AppData\\Local\\Programs\\Python\\Python312\\Lib\\site-packages\\cvxpy\\utilities\\performance_utils.py:73\u001b[0m, in \u001b[0;36mcompute_once.<locals>._compute_once\u001b[1;34m(self, *args, **kwargs)\u001b[0m\n\u001b[0;32m     71\u001b[0m \u001b[38;5;28;01mif\u001b[39;00m key \u001b[38;5;129;01min\u001b[39;00m cache:\n\u001b[0;32m     72\u001b[0m     \u001b[38;5;28;01mreturn\u001b[39;00m cache[key]\n\u001b[1;32m---> 73\u001b[0m result \u001b[38;5;241m=\u001b[39m \u001b[43mfunc\u001b[49m\u001b[43m(\u001b[49m\u001b[38;5;28;43mself\u001b[39;49m\u001b[43m,\u001b[49m\u001b[43m \u001b[49m\u001b[38;5;241;43m*\u001b[39;49m\u001b[43margs\u001b[49m\u001b[43m,\u001b[49m\u001b[43m \u001b[49m\u001b[38;5;241;43m*\u001b[39;49m\u001b[38;5;241;43m*\u001b[39;49m\u001b[43mkwargs\u001b[49m\u001b[43m)\u001b[49m\n\u001b[0;32m     74\u001b[0m cache[key] \u001b[38;5;241m=\u001b[39m result\n\u001b[0;32m     75\u001b[0m \u001b[38;5;28;01mreturn\u001b[39;00m result\n",
      "File \u001b[1;32mc:\\Users\\baice\\AppData\\Local\\Programs\\Python\\Python312\\Lib\\site-packages\\cvxpy\\problems\\problem.py:257\u001b[0m, in \u001b[0;36mProblem.is_dcp\u001b[1;34m(self, dpp)\u001b[0m\n\u001b[0;32m    237\u001b[0m \u001b[38;5;129m@perf\u001b[39m\u001b[38;5;241m.\u001b[39mcompute_once\n\u001b[0;32m    238\u001b[0m \u001b[38;5;28;01mdef\u001b[39;00m \u001b[38;5;21mis_dcp\u001b[39m(\u001b[38;5;28mself\u001b[39m, dpp: \u001b[38;5;28mbool\u001b[39m \u001b[38;5;241m=\u001b[39m \u001b[38;5;28;01mFalse\u001b[39;00m) \u001b[38;5;241m-\u001b[39m\u001b[38;5;241m>\u001b[39m \u001b[38;5;28mbool\u001b[39m:\n\u001b[0;32m    239\u001b[0m \u001b[38;5;250m    \u001b[39m\u001b[38;5;124;03m\"\"\"Does the problem satisfy DCP rules?\u001b[39;00m\n\u001b[0;32m    240\u001b[0m \n\u001b[0;32m    241\u001b[0m \u001b[38;5;124;03m    Arguments\u001b[39;00m\n\u001b[1;32m   (...)\u001b[0m\n\u001b[0;32m    255\u001b[0m \u001b[38;5;124;03m        True if the Expression is DCP, False otherwise.\u001b[39;00m\n\u001b[0;32m    256\u001b[0m \u001b[38;5;124;03m    \"\"\"\u001b[39;00m\n\u001b[1;32m--> 257\u001b[0m     \u001b[38;5;28;01mreturn\u001b[39;00m \u001b[38;5;28;43mall\u001b[39;49m\u001b[43m(\u001b[49m\n\u001b[0;32m    258\u001b[0m \u001b[43m      \u001b[49m\u001b[43mexpr\u001b[49m\u001b[38;5;241;43m.\u001b[39;49m\u001b[43mis_dcp\u001b[49m\u001b[43m(\u001b[49m\u001b[43mdpp\u001b[49m\u001b[43m)\u001b[49m\u001b[43m \u001b[49m\u001b[38;5;28;43;01mfor\u001b[39;49;00m\u001b[43m \u001b[49m\u001b[43mexpr\u001b[49m\u001b[43m \u001b[49m\u001b[38;5;129;43;01min\u001b[39;49;00m\u001b[43m \u001b[49m\u001b[38;5;28;43mself\u001b[39;49m\u001b[38;5;241;43m.\u001b[39;49m\u001b[43mconstraints\u001b[49m\u001b[43m \u001b[49m\u001b[38;5;241;43m+\u001b[39;49m\u001b[43m \u001b[49m\u001b[43m[\u001b[49m\u001b[38;5;28;43mself\u001b[39;49m\u001b[38;5;241;43m.\u001b[39;49m\u001b[43mobjective\u001b[49m\u001b[43m]\u001b[49m\u001b[43m)\u001b[49m\n",
      "File \u001b[1;32mc:\\Users\\baice\\AppData\\Local\\Programs\\Python\\Python312\\Lib\\site-packages\\cvxpy\\problems\\problem.py:258\u001b[0m, in \u001b[0;36m<genexpr>\u001b[1;34m(.0)\u001b[0m\n\u001b[0;32m    237\u001b[0m \u001b[38;5;129m@perf\u001b[39m\u001b[38;5;241m.\u001b[39mcompute_once\n\u001b[0;32m    238\u001b[0m \u001b[38;5;28;01mdef\u001b[39;00m \u001b[38;5;21mis_dcp\u001b[39m(\u001b[38;5;28mself\u001b[39m, dpp: \u001b[38;5;28mbool\u001b[39m \u001b[38;5;241m=\u001b[39m \u001b[38;5;28;01mFalse\u001b[39;00m) \u001b[38;5;241m-\u001b[39m\u001b[38;5;241m>\u001b[39m \u001b[38;5;28mbool\u001b[39m:\n\u001b[0;32m    239\u001b[0m \u001b[38;5;250m    \u001b[39m\u001b[38;5;124;03m\"\"\"Does the problem satisfy DCP rules?\u001b[39;00m\n\u001b[0;32m    240\u001b[0m \n\u001b[0;32m    241\u001b[0m \u001b[38;5;124;03m    Arguments\u001b[39;00m\n\u001b[1;32m   (...)\u001b[0m\n\u001b[0;32m    255\u001b[0m \u001b[38;5;124;03m        True if the Expression is DCP, False otherwise.\u001b[39;00m\n\u001b[0;32m    256\u001b[0m \u001b[38;5;124;03m    \"\"\"\u001b[39;00m\n\u001b[0;32m    257\u001b[0m     \u001b[38;5;28;01mreturn\u001b[39;00m \u001b[38;5;28mall\u001b[39m(\n\u001b[1;32m--> 258\u001b[0m       \u001b[43mexpr\u001b[49m\u001b[38;5;241;43m.\u001b[39;49m\u001b[43mis_dcp\u001b[49m\u001b[43m(\u001b[49m\u001b[43mdpp\u001b[49m\u001b[43m)\u001b[49m \u001b[38;5;28;01mfor\u001b[39;00m expr \u001b[38;5;129;01min\u001b[39;00m \u001b[38;5;28mself\u001b[39m\u001b[38;5;241m.\u001b[39mconstraints \u001b[38;5;241m+\u001b[39m [\u001b[38;5;28mself\u001b[39m\u001b[38;5;241m.\u001b[39mobjective])\n",
      "File \u001b[1;32mc:\\Users\\baice\\AppData\\Local\\Programs\\Python\\Python312\\Lib\\site-packages\\cvxpy\\problems\\objective.py:153\u001b[0m, in \u001b[0;36mMinimize.is_dcp\u001b[1;34m(self, dpp)\u001b[0m\n\u001b[0;32m    151\u001b[0m     \u001b[38;5;28;01mwith\u001b[39;00m scopes\u001b[38;5;241m.\u001b[39mdpp_scope():\n\u001b[0;32m    152\u001b[0m         \u001b[38;5;28;01mreturn\u001b[39;00m \u001b[38;5;28mself\u001b[39m\u001b[38;5;241m.\u001b[39margs[\u001b[38;5;241m0\u001b[39m]\u001b[38;5;241m.\u001b[39mis_convex()\n\u001b[1;32m--> 153\u001b[0m \u001b[38;5;28;01mreturn\u001b[39;00m \u001b[38;5;28;43mself\u001b[39;49m\u001b[38;5;241;43m.\u001b[39;49m\u001b[43margs\u001b[49m\u001b[43m[\u001b[49m\u001b[38;5;241;43m0\u001b[39;49m\u001b[43m]\u001b[49m\u001b[38;5;241;43m.\u001b[39;49m\u001b[43mis_convex\u001b[49m\u001b[43m(\u001b[49m\u001b[43m)\u001b[49m\n",
      "File \u001b[1;32mc:\\Users\\baice\\AppData\\Local\\Programs\\Python\\Python312\\Lib\\site-packages\\cvxpy\\utilities\\performance_utils.py:73\u001b[0m, in \u001b[0;36mcompute_once.<locals>._compute_once\u001b[1;34m(self, *args, **kwargs)\u001b[0m\n\u001b[0;32m     71\u001b[0m \u001b[38;5;28;01mif\u001b[39;00m key \u001b[38;5;129;01min\u001b[39;00m cache:\n\u001b[0;32m     72\u001b[0m     \u001b[38;5;28;01mreturn\u001b[39;00m cache[key]\n\u001b[1;32m---> 73\u001b[0m result \u001b[38;5;241m=\u001b[39m \u001b[43mfunc\u001b[49m\u001b[43m(\u001b[49m\u001b[38;5;28;43mself\u001b[39;49m\u001b[43m,\u001b[49m\u001b[43m \u001b[49m\u001b[38;5;241;43m*\u001b[39;49m\u001b[43margs\u001b[49m\u001b[43m,\u001b[49m\u001b[43m \u001b[49m\u001b[38;5;241;43m*\u001b[39;49m\u001b[38;5;241;43m*\u001b[39;49m\u001b[43mkwargs\u001b[49m\u001b[43m)\u001b[49m\n\u001b[0;32m     74\u001b[0m cache[key] \u001b[38;5;241m=\u001b[39m result\n\u001b[0;32m     75\u001b[0m \u001b[38;5;28;01mreturn\u001b[39;00m result\n",
      "File \u001b[1;32mc:\\Users\\baice\\AppData\\Local\\Programs\\Python\\Python312\\Lib\\site-packages\\cvxpy\\atoms\\atom.py:176\u001b[0m, in \u001b[0;36mAtom.is_convex\u001b[1;34m(self)\u001b[0m\n\u001b[0;32m    174\u001b[0m \u001b[38;5;28;01mif\u001b[39;00m \u001b[38;5;28mself\u001b[39m\u001b[38;5;241m.\u001b[39mis_constant():\n\u001b[0;32m    175\u001b[0m     \u001b[38;5;28;01mreturn\u001b[39;00m \u001b[38;5;28;01mTrue\u001b[39;00m\n\u001b[1;32m--> 176\u001b[0m \u001b[38;5;28;01melif\u001b[39;00m \u001b[38;5;28;43mself\u001b[39;49m\u001b[38;5;241;43m.\u001b[39;49m\u001b[43mis_atom_convex\u001b[49m\u001b[43m(\u001b[49m\u001b[43m)\u001b[49m:\n\u001b[0;32m    177\u001b[0m     \u001b[38;5;28;01mfor\u001b[39;00m idx, arg \u001b[38;5;129;01min\u001b[39;00m \u001b[38;5;28menumerate\u001b[39m(\u001b[38;5;28mself\u001b[39m\u001b[38;5;241m.\u001b[39margs):\n\u001b[0;32m    178\u001b[0m         \u001b[38;5;28;01mif\u001b[39;00m \u001b[38;5;129;01mnot\u001b[39;00m (arg\u001b[38;5;241m.\u001b[39mis_affine() \u001b[38;5;129;01mor\u001b[39;00m\n\u001b[0;32m    179\u001b[0m                 (arg\u001b[38;5;241m.\u001b[39mis_convex() \u001b[38;5;129;01mand\u001b[39;00m \u001b[38;5;28mself\u001b[39m\u001b[38;5;241m.\u001b[39mis_incr(idx)) \u001b[38;5;129;01mor\u001b[39;00m\n\u001b[0;32m    180\u001b[0m                 (arg\u001b[38;5;241m.\u001b[39mis_concave() \u001b[38;5;129;01mand\u001b[39;00m \u001b[38;5;28mself\u001b[39m\u001b[38;5;241m.\u001b[39mis_decr(idx))):\n",
      "File \u001b[1;32mc:\\Users\\baice\\AppData\\Local\\Programs\\Python\\Python312\\Lib\\site-packages\\cvxpy\\atoms\\quad_form.py:69\u001b[0m, in \u001b[0;36mQuadForm.is_atom_convex\u001b[1;34m(self)\u001b[0m\n\u001b[0;32m     66\u001b[0m \u001b[38;5;250m\u001b[39m\u001b[38;5;124;03m\"\"\"Is the atom convex?\u001b[39;00m\n\u001b[0;32m     67\u001b[0m \u001b[38;5;124;03m\"\"\"\u001b[39;00m\n\u001b[0;32m     68\u001b[0m P \u001b[38;5;241m=\u001b[39m \u001b[38;5;28mself\u001b[39m\u001b[38;5;241m.\u001b[39margs[\u001b[38;5;241m1\u001b[39m]\n\u001b[1;32m---> 69\u001b[0m \u001b[38;5;28;01mreturn\u001b[39;00m P\u001b[38;5;241m.\u001b[39mis_constant() \u001b[38;5;129;01mand\u001b[39;00m \u001b[43mP\u001b[49m\u001b[38;5;241;43m.\u001b[39;49m\u001b[43mis_psd\u001b[49m\u001b[43m(\u001b[49m\u001b[43m)\u001b[49m\n",
      "File \u001b[1;32mc:\\Users\\baice\\AppData\\Local\\Programs\\Python\\Python312\\Lib\\site-packages\\cvxpy\\utilities\\performance_utils.py:73\u001b[0m, in \u001b[0;36mcompute_once.<locals>._compute_once\u001b[1;34m(self, *args, **kwargs)\u001b[0m\n\u001b[0;32m     71\u001b[0m \u001b[38;5;28;01mif\u001b[39;00m key \u001b[38;5;129;01min\u001b[39;00m cache:\n\u001b[0;32m     72\u001b[0m     \u001b[38;5;28;01mreturn\u001b[39;00m cache[key]\n\u001b[1;32m---> 73\u001b[0m result \u001b[38;5;241m=\u001b[39m \u001b[43mfunc\u001b[49m\u001b[43m(\u001b[49m\u001b[38;5;28;43mself\u001b[39;49m\u001b[43m,\u001b[49m\u001b[43m \u001b[49m\u001b[38;5;241;43m*\u001b[39;49m\u001b[43margs\u001b[49m\u001b[43m,\u001b[49m\u001b[43m \u001b[49m\u001b[38;5;241;43m*\u001b[39;49m\u001b[38;5;241;43m*\u001b[39;49m\u001b[43mkwargs\u001b[49m\u001b[43m)\u001b[49m\n\u001b[0;32m     74\u001b[0m cache[key] \u001b[38;5;241m=\u001b[39m result\n\u001b[0;32m     75\u001b[0m \u001b[38;5;28;01mreturn\u001b[39;00m result\n",
      "File \u001b[1;32mc:\\Users\\baice\\AppData\\Local\\Programs\\Python\\Python312\\Lib\\site-packages\\cvxpy\\expressions\\constants\\constant.py:238\u001b[0m, in \u001b[0;36mConstant.is_psd\u001b[1;34m(self)\u001b[0m\n\u001b[0;32m    236\u001b[0m \u001b[38;5;66;03m# Compute sign of bottom eigenvalue if absent.\u001b[39;00m\n\u001b[0;32m    237\u001b[0m \u001b[38;5;28;01mif\u001b[39;00m \u001b[38;5;28mself\u001b[39m\u001b[38;5;241m.\u001b[39m_psd_test \u001b[38;5;129;01mis\u001b[39;00m \u001b[38;5;28;01mNone\u001b[39;00m:\n\u001b[1;32m--> 238\u001b[0m     \u001b[38;5;28mself\u001b[39m\u001b[38;5;241m.\u001b[39m_psd_test \u001b[38;5;241m=\u001b[39m \u001b[43meig_util\u001b[49m\u001b[38;5;241;43m.\u001b[39;49m\u001b[43mis_psd_within_tol\u001b[49m\u001b[43m(\u001b[49m\u001b[38;5;28;43mself\u001b[39;49m\u001b[38;5;241;43m.\u001b[39;49m\u001b[43mvalue\u001b[49m\u001b[43m,\u001b[49m\u001b[43m \u001b[49m\u001b[43ms\u001b[49m\u001b[38;5;241;43m.\u001b[39;49m\u001b[43mEIGVAL_TOL\u001b[49m\u001b[43m)\u001b[49m\n\u001b[0;32m    240\u001b[0m \u001b[38;5;28;01mreturn\u001b[39;00m \u001b[38;5;28mself\u001b[39m\u001b[38;5;241m.\u001b[39m_psd_test\n",
      "File \u001b[1;32mc:\\Users\\baice\\AppData\\Local\\Programs\\Python\\Python312\\Lib\\site-packages\\cvxpy\\utilities\\linalg.py:129\u001b[0m, in \u001b[0;36mis_psd_within_tol\u001b[1;34m(A, tol)\u001b[0m\n\u001b[0;32m    117\u001b[0m     message \u001b[38;5;241m=\u001b[39m \u001b[38;5;124m\"\"\"\u001b[39m\n\u001b[0;32m    118\u001b[0m \u001b[38;5;124m    CVXPY note: This failure was encountered while trying to certify\u001b[39m\n\u001b[0;32m    119\u001b[0m \u001b[38;5;124m    that a matrix is positive semi-definite (see [1] for a definition).\u001b[39m\n\u001b[1;32m   (...)\u001b[0m\n\u001b[0;32m    124\u001b[0m \u001b[38;5;124m    [1] https://en.wikipedia.org/wiki/Definite_matrix\u001b[39m\n\u001b[0;32m    125\u001b[0m \u001b[38;5;124m    \u001b[39m\u001b[38;5;124m\"\"\"\u001b[39m\n\u001b[0;32m    127\u001b[0m     error_with_note \u001b[38;5;241m=\u001b[39m \u001b[38;5;124mf\u001b[39m\u001b[38;5;124m\"\u001b[39m\u001b[38;5;132;01m{\u001b[39;00m\u001b[38;5;28mstr\u001b[39m(e)\u001b[38;5;132;01m}\u001b[39;00m\u001b[38;5;130;01m\\n\u001b[39;00m\u001b[38;5;130;01m\\n\u001b[39;00m\u001b[38;5;132;01m{\u001b[39;00mmessage\u001b[38;5;132;01m}\u001b[39;00m\u001b[38;5;124m\"\u001b[39m\n\u001b[1;32m--> 129\u001b[0m     \u001b[38;5;28;01mraise\u001b[39;00m sparla\u001b[38;5;241m.\u001b[39mArpackNoConvergence(error_with_note, e\u001b[38;5;241m.\u001b[39meigenvalues, e\u001b[38;5;241m.\u001b[39meigenvectors)\n\u001b[0;32m    131\u001b[0m \u001b[38;5;28;01mif\u001b[39;00m np\u001b[38;5;241m.\u001b[39misnan(ev)\u001b[38;5;241m.\u001b[39many():\n\u001b[0;32m    132\u001b[0m     \u001b[38;5;66;03m# will be NaN if A has an eigenvalue which is exactly -tol\u001b[39;00m\n\u001b[0;32m    133\u001b[0m     \u001b[38;5;66;03m# (We might also hit this code block for other reasons.)\u001b[39;00m\n\u001b[0;32m    134\u001b[0m     temp \u001b[38;5;241m=\u001b[39m tol \u001b[38;5;241m-\u001b[39m np\u001b[38;5;241m.\u001b[39mfinfo(A\u001b[38;5;241m.\u001b[39mdtype)\u001b[38;5;241m.\u001b[39meps\n",
      "\u001b[1;31mArpackNoConvergence\u001b[0m: ARPACK error -1: ARPACK error -1: No convergence (2001 iterations, 0/1 eigenvectors converged)\n\n\n        CVXPY note: This failure was encountered while trying to certify\n        that a matrix is positive semi-definite (see [1] for a definition).\n        In rare cases, this method fails for numerical reasons even when the matrix is\n        positive semi-definite. If you know that you're in that situation, you can\n        replace the matrix A by cvxpy.psd_wrap(A).\n\n        [1] https://en.wikipedia.org/wiki/Definite_matrix\n        "
     ]
    }
   ],
   "source": [
    "np.random.seed(532)\n",
    "def gen_pd_matrix(n, mean, std):\n",
    "    M = np.random.normal(loc=mean, scale=std, size=(n,n))\n",
    "    A = M @ M.T\n",
    "    return A\n",
    "\n",
    "n = 200\n",
    "A = gen_pd_matrix(n, 0, 1)\n",
    "eigen_values = np.linalg.eigvals(A)\n",
    "print(\"The generated matrix is Positive Definite =\", np.all(np.linalg.eigvals(A) > 0))\n",
    "print(\"Condition number =\", max(eigen_values)/min(eigen_values))\n",
    "\n",
    "x = cp.Variable(n)\n",
    "objective = cp.Minimize(cp.quad_form(x, A))\n",
    "problem = cp.Problem(objective)\n",
    "problem.solve()\n",
    "print(\"Optimal value =\",problem.value)"
   ]
  },
  {
   "cell_type": "code",
   "execution_count": null,
   "metadata": {},
   "outputs": [
    {
     "name": "stdout",
     "output_type": "stream",
     "text": [
      "[[202.9735  22.1002  19.3101 ...  38.0534  23.8112  -8.31  ]\n",
      " [ 22.1002 178.5904  -9.0442 ...   9.0756  17.9349  -9.2116]\n",
      " [ 19.3101  -9.0442 203.9098 ...   6.6498  -0.4012  21.3237]\n",
      " ...\n",
      " [ 38.0534   9.0756   6.6498 ... 222.7602 -14.4251 -19.9831]\n",
      " [ 23.8112  17.9349  -0.4012 ... -14.4251 197.1301  -0.8145]\n",
      " [ -8.31    -9.2116  21.3237 ... -19.9831  -0.8145 182.7079]]\n"
     ]
    }
   ],
   "source": [
    "print(A)"
   ]
  },
  {
   "cell_type": "markdown",
   "metadata": {},
   "source": [
    "Algorithm 1 for $f(x) = \\frac{1}{2} x^TAx$ where A is positive definite"
   ]
  },
  {
   "cell_type": "markdown",
   "metadata": {},
   "source": [
    "Note: We use $t=1/L$ as the step-size"
   ]
  },
  {
   "cell_type": "markdown",
   "metadata": {},
   "source": [
    "Alg. 1 with $q = 0$"
   ]
  },
  {
   "cell_type": "code",
   "execution_count": null,
   "metadata": {},
   "outputs": [
    {
     "name": "stdout",
     "output_type": "stream",
     "text": [
      "0.004265065565551994\n"
     ]
    }
   ],
   "source": [
    "np.random.seed(42)\n",
    "iterations = 10000\n",
    "q = 0\n",
    "theta = 1\n",
    "eigvals = np.linalg.eigvals(A)\n",
    "t = 1 / max(eigvals)\n",
    "x = y = np.random.uniform(-A.shape[1], A.shape[1], A.shape[1])\n",
    "\n",
    "value_q_0 = np.zeros(iterations)\n",
    "\n",
    "for i in range(iterations):\n",
    "    x_next = y - t * A @ y\n",
    "    theta_next = 0.5 * (-theta**2+np.sqrt(theta**4-2*(theta**2)*q+4*theta**2+q**2)+q)\n",
    "    beta = theta*(1-theta) / (theta**2+theta_next)\n",
    "    y = x_next+beta*(x_next-x)\n",
    "    value_q_0[i] = 0.5*x_next.T @ A @ x_next\n",
    "    x = x_next\n",
    "    theta = theta_next\n",
    "\n",
    "print(0.5*x.T @ A @ x)"
   ]
  },
  {
   "cell_type": "markdown",
   "metadata": {},
   "source": [
    "Alg. 1 with $q = 1$"
   ]
  },
  {
   "cell_type": "code",
   "execution_count": 235,
   "metadata": {},
   "outputs": [
    {
     "name": "stdout",
     "output_type": "stream",
     "text": [
      "440.6922923399739\n"
     ]
    }
   ],
   "source": [
    "np.random.seed(42)\n",
    "iterations = 10000\n",
    "q = 1\n",
    "theta = 1\n",
    "eigvals = np.linalg.eigvals(A)\n",
    "t = 1 / max(eigvals)\n",
    "x = y = np.random.uniform(-A.shape[1], A.shape[1], A.shape[1])\n",
    "\n",
    "value_q_1 = np.zeros(iterations)\n",
    "for i in range(iterations):\n",
    "    x_next = y - t * A @ y\n",
    "    theta_next = 0.5 * (-theta**2+np.sqrt(theta**4-2*(theta**2)*q+4*theta**2+q**2)+q)\n",
    "    beta = theta*(1-theta) / (theta**2+theta_next)\n",
    "    y = x_next+beta*(x_next-x)\n",
    "    value_q_1[i] = 0.5*x_next.T @ A @ x_next\n",
    "    x = x_next\n",
    "    theta = theta_next\n",
    "\n",
    "print(0.5*x.T @ A @ x)"
   ]
  },
  {
   "cell_type": "markdown",
   "metadata": {},
   "source": [
    "Alg. 1 with $q = q^*$"
   ]
  },
  {
   "cell_type": "code",
   "execution_count": 236,
   "metadata": {},
   "outputs": [
    {
     "name": "stdout",
     "output_type": "stream",
     "text": [
      "5.411116479389926e-22\n"
     ]
    }
   ],
   "source": [
    "np.random.seed(42)\n",
    "iterations = 10000\n",
    "theta = 1\n",
    "eigvals = np.linalg.eigvals(A)\n",
    "# Condition nuber\n",
    "q = (max(eigvals) / min(eigvals)) ** -1\n",
    "t = 1 / max(eigvals)\n",
    "x = y = np.random.uniform(-A.shape[1], A.shape[1], A.shape[1])\n",
    "\n",
    "value_q_star = np.zeros(iterations)\n",
    "for i in range(iterations):\n",
    "    x_next = y - t * A @ y\n",
    "    theta_next = 0.5 * (-theta**2+np.sqrt(theta**4-2*(theta**2)*q+4*theta**2+q**2)+q)\n",
    "    beta = theta*(1-theta) / (theta**2+theta_next)\n",
    "    y = x_next+beta*(x_next-x)\n",
    "    value_q_star[i] = 0.5*x_next.T @ A @ x_next\n",
    "    x = x_next\n",
    "    theta = theta_next\n",
    "\n",
    "print(0.5*x.T @ A @ x)"
   ]
  },
  {
   "cell_type": "markdown",
   "metadata": {},
   "source": [
    "Alg. 1 with $q = q^* / 10$"
   ]
  },
  {
   "cell_type": "code",
   "execution_count": 237,
   "metadata": {},
   "outputs": [
    {
     "name": "stdout",
     "output_type": "stream",
     "text": [
      "9.944761163418738e-08\n"
     ]
    }
   ],
   "source": [
    "np.random.seed(42)\n",
    "iterations = 10000\n",
    "theta = 1\n",
    "eigvals = np.linalg.eigvals(A)\n",
    "# Condition nuber\n",
    "q = (max(eigvals) / min(eigvals)) ** -1\n",
    "q = q / 10\n",
    "t = 1 / max(eigvals)\n",
    "x = y = np.random.uniform(-A.shape[1], A.shape[1], A.shape[1])\n",
    "\n",
    "value_q_star_div_10 = np.zeros(iterations)\n",
    "for i in range(iterations):\n",
    "    x_next = y - t * A @ y\n",
    "    theta_next = 0.5 * (-theta**2+np.sqrt(theta**4-2*(theta**2)*q+4*theta**2+q**2)+q)\n",
    "    beta = theta*(1-theta) / (theta**2+theta_next)\n",
    "    y = x_next+beta*(x_next-x)\n",
    "    value_q_star_div_10[i] = 0.5*x_next.T @ A @ x_next\n",
    "    x = x_next\n",
    "    theta = theta_next\n",
    "\n",
    "print(0.5*x.T @ A @ x)"
   ]
  },
  {
   "cell_type": "markdown",
   "metadata": {},
   "source": [
    "Alg. 1 with $q = 10q^*$"
   ]
  },
  {
   "cell_type": "code",
   "execution_count": 238,
   "metadata": {},
   "outputs": [
    {
     "name": "stdout",
     "output_type": "stream",
     "text": [
      "0.011773295321100292\n"
     ]
    }
   ],
   "source": [
    "np.random.seed(42)\n",
    "iterations = 10000\n",
    "theta = 1\n",
    "eigvals = np.linalg.eigvals(A)\n",
    "# Condition nuber\n",
    "q = (max(eigvals) / min(eigvals)) ** -1\n",
    "q = 10 * q\n",
    "t = 1 / max(eigvals)\n",
    "x = y = np.random.uniform(-A.shape[1], A.shape[1], A.shape[1])\n",
    "\n",
    "value_q_star_tim_10 = np.zeros(iterations)\n",
    "for i in range(iterations):\n",
    "    x_next = y - t * A @ y\n",
    "    theta_next = 0.5 * (-theta**2+np.sqrt(theta**4-2*(theta**2)*q+4*theta**2+q**2)+q)\n",
    "    beta = theta*(1-theta) / (theta**2+theta_next)\n",
    "    y = x_next+beta*(x_next-x)\n",
    "    value_q_star_tim_10[i] = 0.5*x_next.T @ A @ x_next\n",
    "    x = x_next\n",
    "    theta = theta_next\n",
    "\n",
    "print(0.5*x.T @ A @ x)"
   ]
  },
  {
   "cell_type": "markdown",
   "metadata": {},
   "source": [
    "Custom 1"
   ]
  },
  {
   "cell_type": "code",
   "execution_count": 239,
   "metadata": {},
   "outputs": [
    {
     "name": "stdout",
     "output_type": "stream",
     "text": [
      "1.0019926859501792e-16\n"
     ]
    }
   ],
   "source": [
    "np.random.seed(42)\n",
    "iterations = 10000\n",
    "theta = 1\n",
    "eigvals = np.linalg.eigvals(A)\n",
    "# Condition nuber\n",
    "q = (max(eigvals) / min(eigvals)) ** -1\n",
    "q = q\n",
    "t = 2 / (max(eigvals) + min(eigvals))\n",
    "x = y = np.random.uniform(-A.shape[1], A.shape[1], A.shape[1])\n",
    "\n",
    "value_custom_1 = np.zeros(iterations)\n",
    "for i in range(iterations):\n",
    "    x_next = y - t * A @ x\n",
    "    theta_next = 0.5 * (-theta**2+np.sqrt(theta**4-2*(theta**2)*q+4*theta**2+q**2)+q) - (theta/(i+1))\n",
    "    beta = theta*(1-theta) / (theta**2+theta_next)\n",
    "    y = x_next+beta*(x_next-x)\n",
    "    value_custom_1[i] = 0.5*x_next.T @ A @ x_next\n",
    "    x = x_next\n",
    "    theta = theta_next\n",
    "\n",
    "print(0.5*x.T @ A @ x)"
   ]
  },
  {
   "cell_type": "markdown",
   "metadata": {},
   "source": [
    "Custom 2"
   ]
  },
  {
   "cell_type": "code",
   "execution_count": 240,
   "metadata": {},
   "outputs": [
    {
     "name": "stdout",
     "output_type": "stream",
     "text": [
      "3.900806434509853e-26\n"
     ]
    }
   ],
   "source": [
    "np.random.seed(42)\n",
    "iterations = 10000\n",
    "theta = 1\n",
    "eigvals = np.linalg.eigvals(A)\n",
    "# Condition nuber\n",
    "q = (max(eigvals) / min(eigvals)) ** -1\n",
    "q = q\n",
    "t = 2 / (max(eigvals) + min(eigvals))\n",
    "x = y = np.random.uniform(-A.shape[1], A.shape[1], A.shape[1])\n",
    "\n",
    "value_custom_2 = np.zeros(iterations)\n",
    "for i in range(iterations):\n",
    "    x_next = y - t * A @ x\n",
    "    theta_next = 0.5 * (-theta**2+np.sqrt(theta**4-2*(theta**2)*q+4*theta**2+q**2)+q)\n",
    "    beta = theta*(1-theta) / (theta**2+theta_next)\n",
    "    y = x_next+beta*(x_next-x)\n",
    "    value_custom_2[i] = 0.5*x_next.T @ A @ x_next\n",
    "    x = x_next\n",
    "    theta = theta_next\n",
    "\n",
    "print(0.5*x.T @ A @ x)"
   ]
  },
  {
   "cell_type": "code",
   "execution_count": 277,
   "metadata": {},
   "outputs": [
    {
     "name": "stdout",
     "output_type": "stream",
     "text": [
      "3.900806434509853e-26\n"
     ]
    }
   ],
   "source": [
    "np.random.seed(42)\n",
    "iterations = 10000\n",
    "theta = 1\n",
    "eigvals = np.linalg.eigvals(A)\n",
    "# Condition nuber\n",
    "q = (max(eigvals) / min(eigvals)) ** -1\n",
    "q = q\n",
    "t = 2 / (max(eigvals) + min(eigvals))\n",
    "t_star = 1 / max(eigvals)\n",
    "x = y = np.random.uniform(-A.shape[1], A.shape[1], A.shape[1])\n",
    "\n",
    "value_custom_3 = np.zeros(iterations)\n",
    "for i in range(iterations):\n",
    "    x_next = y - t * A @ x\n",
    "    # x_next_2 = y - t_star * A @ y\n",
    "    \n",
    "    # shreck = (0.5 * np.linalg.norm(x_next_1) + 0.5 * np.linalg.norm(x_next_2)) / np.linalg.norm(0.5*x_next_1+0.5*x_next_2)\n",
    "    # # shreck = 0.8\n",
    "    # x_next = shreck*x_next_1 + (1-shreck)*x_next_2\n",
    "    theta_next = 0.5 * (-theta**2+np.sqrt(theta**4-2*(theta**2)*q+4*theta**2+q**2)+q)\n",
    "    beta = theta*(1-theta) / (theta**2+theta_next)\n",
    "    y = x_next+beta*(x_next-x)\n",
    "    value_custom_3[i] = 0.5*x_next.T @ A @ x_next\n",
    "    x = x_next\n",
    "    theta = theta_next\n",
    "    \n",
    "print(0.5*x.T @ A @ x)"
   ]
  },
  {
   "cell_type": "code",
   "execution_count": null,
   "metadata": {},
   "outputs": [
    {
     "data": {
      "text/plain": [
       "<matplotlib.legend.Legend at 0x1ed7fc656a0>"
      ]
     },
     "execution_count": 275,
     "metadata": {},
     "output_type": "execute_result"
    },
    {
     "data": {
      "image/png": "[encoded data removed]",
      "text/plain": [
       "<Figure size 640x480 with 1 Axes>"
      ]
     },
     "metadata": {},
     "output_type": "display_data"
    }
   ],
   "source": [
    "plt.plot(value_q_star, label='q*', color='red')\n",
    "plt.plot(value_q_0, label='q=0', color='blue')\n",
    "plt.plot(value_q_1, label='q=1', color='purple')\n",
    "plt.plot(value_q_star_div_10, label='q=q*/10', color='green')\n",
    "plt.plot(value_q_star_tim_10, label='q=10q*', color='cyan')\n",
    "plt.plot(value_custom_1, label='custom 1', color='orange')\n",
    "plt.plot(value_custom_2, label='custom 2', color='black')\n",
    "# plt.plot(value_custom_3, label='custom 3')\n",
    "plt.yscale('log')\n",
    "plt.legend()"
   ]
  },
  {
   "cell_type": "markdown",
   "metadata": {},
   "source": [
    "Algorithm 2"
   ]
  },
  {
   "cell_type": "code",
   "execution_count": 534,
   "metadata": {},
   "outputs": [
    {
     "name": "stdout",
     "output_type": "stream",
     "text": [
      "0.2087855366281494\n"
     ]
    }
   ],
   "source": [
    "np.random.seed(42)\n",
    "iterations = 5000\n",
    "eigvals = np.linalg.eigvals(A)\n",
    "# Condition nuber\n",
    "cond = (max(eigvals) / min(eigvals)) ** -1\n",
    "beta_star = (1 - np.sqrt(cond)) / (1 + np.sqrt(cond))\n",
    "t = 1 / max(eigvals)\n",
    "x = y = np.random.uniform(-A.shape[1], A.shape[1], A.shape[1])\n",
    "\n",
    "value_alg_2 = np.zeros(5000)\n",
    "for i in range(iterations):\n",
    "    x_next = y - t * A @ y\n",
    "    y = x_next + beta * (x_next - x)\n",
    "    value_alg_2[i] = 0.5*x.T @ A @ x\n",
    "    x = x_next\n",
    "\n",
    "print(0.5*x.T @ A @ x)"
   ]
  },
  {
   "cell_type": "markdown",
   "metadata": {},
   "source": [
    "For Fig. 2"
   ]
  },
  {
   "cell_type": "code",
   "execution_count": 535,
   "metadata": {},
   "outputs": [
    {
     "name": "stdout",
     "output_type": "stream",
     "text": [
      "The generated matrix is Positive Definite = True\n"
     ]
    }
   ],
   "source": [
    "temp = np.random.normal(loc=0, scale=1, size=(2,2))\n",
    "P = temp @ temp.T\n",
    "\n",
    "print(\"The generated matrix is Positive Definite =\", np.all(np.linalg.eigvals(P) > 0))"
   ]
  },
  {
   "cell_type": "markdown",
   "metadata": {},
   "source": [
    "Alg. 1 with $q = 0$"
   ]
  },
  {
   "cell_type": "code",
   "execution_count": 580,
   "metadata": {},
   "outputs": [
    {
     "name": "stdout",
     "output_type": "stream",
     "text": [
      "7.315178933695044e-17\n"
     ]
    }
   ],
   "source": [
    "np.random.seed(42)\n",
    "iterations = 100\n",
    "q = 0\n",
    "theta = 1\n",
    "eigvals = np.linalg.eigvals(P)\n",
    "t = 1 / max(eigvals)\n",
    "x = y = -np.random.uniform(-P.shape[1], P.shape[1], P.shape[1])\n",
    "\n",
    "fig_2_x_q_0 = np.zeros(100, dtype=object)\n",
    "\n",
    "for i in range(iterations):\n",
    "    x_next = y - t * P @ y\n",
    "    theta_next = 0.5 * (-theta**2+np.sqrt(theta**4-2*(theta**2)*q+4*theta**2+q**2)+q)\n",
    "    beta = theta*(1-theta) / (theta**2+theta_next)\n",
    "    y = x_next+beta*(x_next-x)\n",
    "    fig_2_x_q_0[i] = x_next\n",
    "    x = x_next\n",
    "    theta = theta_next\n",
    "\n",
    "print(0.5*x.T @ P @ x)"
   ]
  },
  {
   "cell_type": "markdown",
   "metadata": {},
   "source": [
    "Alg. 1 with $q=q^*$"
   ]
  },
  {
   "cell_type": "code",
   "execution_count": 582,
   "metadata": {},
   "outputs": [
    {
     "name": "stdout",
     "output_type": "stream",
     "text": [
      "4.716955362587715e-50\n"
     ]
    }
   ],
   "source": [
    "np.random.seed(42)\n",
    "iterations = 100\n",
    "theta = 1\n",
    "eigvals = np.linalg.eigvals(P)\n",
    "# Condition nuber\n",
    "q = (max(eigvals) / min(eigvals)) ** -1\n",
    "t = 1 / max(eigvals)\n",
    "x = y = -np.random.uniform(-P.shape[1], P.shape[1], P.shape[1])\n",
    "\n",
    "fig_2_x_q_star = np.zeros(100, dtype=object)\n",
    "\n",
    "for i in range(iterations):\n",
    "    x_next = y - t * P @ y\n",
    "    theta_next = 0.5 * (-theta**2+np.sqrt(theta**4-2*(theta**2)*q+4*theta**2+q**2)+q)\n",
    "    beta = theta*(1-theta) / (theta**2+theta_next)\n",
    "    y = x_next+beta*(x_next-x)\n",
    "    fig_2_x_q_star[i] = x_next\n",
    "    x = x_next\n",
    "    theta = theta_next\n",
    "\n",
    "print(0.5*x.T @ P @ x)"
   ]
  },
  {
   "cell_type": "markdown",
   "metadata": {},
   "source": [
    "Alg. 3 with $k^*=e\\sqrt{8L/\\mu}$"
   ]
  },
  {
   "cell_type": "code",
   "execution_count": 583,
   "metadata": {},
   "outputs": [
    {
     "name": "stdout",
     "output_type": "stream",
     "text": [
      "9.362549813906295e-26\n"
     ]
    }
   ],
   "source": [
    "np.random.seed(42)\n",
    "iterations = 100\n",
    "q = 0\n",
    "theta = 1\n",
    "eigvals = np.linalg.eigvals(P)\n",
    "t = 1 / max(eigvals)\n",
    "x = y = -np.random.uniform(-P.shape[1], P.shape[1], P.shape[1])\n",
    "k = int(np.e * np.sqrt(8*(max(eigvals) / min(eigvals))))\n",
    "\n",
    "fig_2_restarts = np.zeros(101, dtype=object)\n",
    "count = 0\n",
    "while count < 100:\n",
    "    theta = 1\n",
    "    for i in range(k):\n",
    "        x_next = y - t * P @ y\n",
    "        theta_next = 0.5 * (-theta**2+np.sqrt(theta**4-2*(theta**2)*q+4*theta**2+q**2)+q)\n",
    "        beta = theta*(1-theta) / (theta**2+theta_next)\n",
    "        y = x_next+beta*(x_next-x)\n",
    "        fig_2_restarts[count] = x_next\n",
    "        x = x_next\n",
    "        theta = theta_next\n",
    "        count += 1\n",
    "        if count > 100:\n",
    "            break\n",
    "\n",
    "print(0.5*x.T @ P @ x)"
   ]
  },
  {
   "cell_type": "markdown",
   "metadata": {},
   "source": [
    "Fig. 2"
   ]
  },
  {
   "cell_type": "code",
   "execution_count": 592,
   "metadata": {},
   "outputs": [
    {
     "data": {
      "image/png": "[encoded data removed]",
      "text/plain": [
       "<Figure size 640x480 with 1 Axes>"
      ]
     },
     "metadata": {},
     "output_type": "display_data"
    }
   ],
   "source": [
    "for i in range(1, 100):\n",
    "    x_test1, y_test1 = fig_2_x_q_star[i-1]\n",
    "    x_test2, y_test2 = fig_2_x_q_star[i]\n",
    "    plt.plot([x_test1, x_test2], [y_test1, y_test2], color='green')\n",
    "    x_test1, y_test1 = fig_2_x_q_0[i-1]\n",
    "    x_test2, y_test2 = fig_2_x_q_0[i]\n",
    "    plt.plot([x_test1, x_test2], [y_test1, y_test2], color='red')\n",
    "    x_test1, y_test1 = fig_2_x_q_star[i-1]\n",
    "    x_test2, y_test2 = fig_2_x_q_star[i]\n",
    "    plt.plot([x_test1, x_test2], [y_test1, y_test2], color='blue')"
   ]
  },
  {
   "cell_type": "code",
   "execution_count": 771,
   "metadata": {},
   "outputs": [
    {
     "name": "stdout",
     "output_type": "stream",
     "text": [
      "The generated matrix is Positive Definite = True\n",
      "0.0019114376465742995\n"
     ]
    }
   ],
   "source": [
    "temp = np.random.normal(loc=0, scale=1, size=(500,500))\n",
    "G = temp @ temp.T\n",
    "\n",
    "print(\"The generated matrix is Positive Definite =\", np.all(np.linalg.eigvals(G) > 0))\n",
    "print(min(np.linalg.eigvals(G)))"
   ]
  },
  {
   "cell_type": "markdown",
   "metadata": {},
   "source": [
    "Alg. 3 where $k = e\\sqrt{8L/\\mu}$"
   ]
  },
  {
   "cell_type": "code",
   "execution_count": 772,
   "metadata": {},
   "outputs": [
    {
     "name": "stdout",
     "output_type": "stream",
     "text": [
      "0.3000497623977427\n"
     ]
    }
   ],
   "source": [
    "np.random.seed(42)\n",
    "iterations = 5000\n",
    "q = 0\n",
    "theta = 1\n",
    "eigvals = np.linalg.eigvals(G)\n",
    "t = 1 / max(eigvals)\n",
    "x = y = np.random.uniform(-G.shape[1], G.shape[1], G.shape[1])\n",
    "k = int(np.e * np.sqrt(8*(max(eigvals) / min(eigvals))))\n",
    "\n",
    "value_alg_3 = np.zeros(int(np.ceil(iterations/k))*k)\n",
    "count = 0\n",
    "for j in range(int(np.ceil(iterations/k))):\n",
    "    theta = 1\n",
    "    for i in range(k):\n",
    "        x_next = y - t * G @ y\n",
    "        theta_next = 0.5 * (-theta**2+np.sqrt(theta**4-2*(theta**2)*q+4*theta**2+q**2)+q)\n",
    "        beta = theta*(1-theta) / (theta**2+theta_next)\n",
    "        y = x_next+beta*(x_next-x)\n",
    "        value_alg_3[count] = 0.5*x_next.T @ G @ x_next\n",
    "        x = x_next\n",
    "        theta = theta_next\n",
    "        count += 1\n",
    "\n",
    "print(0.5*x.T @ G @ x)"
   ]
  },
  {
   "cell_type": "markdown",
   "metadata": {},
   "source": [
    "Alg. 1 with $q = q^*$"
   ]
  },
  {
   "cell_type": "code",
   "execution_count": 773,
   "metadata": {},
   "outputs": [
    {
     "name": "stdout",
     "output_type": "stream",
     "text": [
      "0.7468177596391004\n"
     ]
    }
   ],
   "source": [
    "np.random.seed(42)\n",
    "iterations = 5000\n",
    "theta = 1\n",
    "eigvals = np.linalg.eigvals(G)\n",
    "# Condition nuber\n",
    "q = (max(eigvals) / min(eigvals)) ** -1\n",
    "t = 1 / max(eigvals)\n",
    "x = y = np.random.uniform(-G.shape[1], G.shape[1], G.shape[1])\n",
    "\n",
    "value_q_star = np.zeros(iterations)\n",
    "for i in range(iterations):\n",
    "    x_next = y - t * G @ y\n",
    "    theta_next = 0.5 * (-theta**2+np.sqrt(theta**4-2*(theta**2)*q+4*theta**2+q**2)+q)\n",
    "    beta = theta*(1-theta) / (theta**2+theta_next)\n",
    "    y = x_next+beta*(x_next-x)\n",
    "    value_q_star[i] = 0.5*x_next.T @ G @ x_next\n",
    "    x = x_next\n",
    "    theta = theta_next\n",
    "\n",
    "print(0.5*x.T @ G @ x)"
   ]
  },
  {
   "cell_type": "markdown",
   "metadata": {},
   "source": [
    "Alg. 3 with $k=400$"
   ]
  },
  {
   "cell_type": "code",
   "execution_count": 774,
   "metadata": {},
   "outputs": [
    {
     "name": "stdout",
     "output_type": "stream",
     "text": [
      "54.151128936195086\n"
     ]
    }
   ],
   "source": [
    "np.random.seed(42)\n",
    "iterations = 5000\n",
    "q = 0\n",
    "theta = 1\n",
    "eigvals = np.linalg.eigvals(G)\n",
    "t = 1 / max(eigvals)\n",
    "x = y = np.random.uniform(-G.shape[1], G.shape[1], G.shape[1])\n",
    "k = 400\n",
    "\n",
    "value_alg_3_k_400 = np.zeros(int(np.ceil(iterations/k))*k)\n",
    "count = 0\n",
    "for j in range(int(np.ceil(iterations/k))):\n",
    "    theta = 1\n",
    "    y = x\n",
    "    for i in range(k):\n",
    "        x_next = y - t * G @ y\n",
    "        theta_next = 0.5 * (-theta**2+np.sqrt(theta**4-2*(theta**2)*q+4*theta**2+q**2)+q)\n",
    "        beta = theta*(1-theta) / (theta**2+theta_next)\n",
    "        y = x_next+beta*(x_next-x)\n",
    "        value_alg_3_k_400[count] = 0.5*x_next.T @ G @ x_next\n",
    "        x = x_next\n",
    "        theta = theta_next\n",
    "        count += 1\n",
    "\n",
    "print(0.5*x.T @ G @ x)"
   ]
  },
  {
   "cell_type": "markdown",
   "metadata": {},
   "source": [
    "Alg. 3 with $k=700$"
   ]
  },
  {
   "cell_type": "code",
   "execution_count": 775,
   "metadata": {},
   "outputs": [
    {
     "name": "stdout",
     "output_type": "stream",
     "text": [
      "24.596926048971884\n"
     ]
    }
   ],
   "source": [
    "np.random.seed(42)\n",
    "iterations = 5000\n",
    "q = 0\n",
    "theta = 1\n",
    "eigvals = np.linalg.eigvals(G)\n",
    "t = 1 / max(eigvals)\n",
    "x = y = np.random.uniform(-G.shape[1], G.shape[1], G.shape[1])\n",
    "k = 700\n",
    "\n",
    "value_alg_3_k_700 = np.zeros(int(np.ceil(iterations/k))*k)\n",
    "count = 0\n",
    "for j in range(int(np.ceil(iterations/k))):\n",
    "    theta = 1\n",
    "    y = x\n",
    "    for i in range(k):\n",
    "        x_next = y - t * G @ y\n",
    "        theta_next = 0.5 * (-theta**2+np.sqrt(theta**4-2*(theta**2)*q+4*theta**2+q**2)+q)\n",
    "        beta = theta*(1-theta) / (theta**2+theta_next)\n",
    "        y = x_next+beta*(x_next-x)\n",
    "        value_alg_3_k_700[count] = 0.5*x_next.T @ G @ x_next\n",
    "        x = x_next\n",
    "        theta = theta_next\n",
    "        count += 1\n",
    "\n",
    "print(0.5*x.T @ G @ x)"
   ]
  },
  {
   "cell_type": "markdown",
   "metadata": {},
   "source": [
    "Alg. 3 with $q=\\mu/L$"
   ]
  },
  {
   "cell_type": "code",
   "execution_count": 776,
   "metadata": {},
   "outputs": [
    {
     "name": "stdout",
     "output_type": "stream",
     "text": [
      "25.085227409004677\n"
     ]
    }
   ],
   "source": [
    "np.random.seed(42)\n",
    "iterations = 5000\n",
    "q = (max(eigvals) / min(eigvals)) ** -1\n",
    "theta = 1\n",
    "eigvals = np.linalg.eigvals(G)\n",
    "t = 1 / max(eigvals)\n",
    "x = y = np.random.uniform(-G.shape[1], G.shape[1], G.shape[1])\n",
    "k = 700\n",
    "\n",
    "value_fig_3 = np.zeros(int(np.ceil(iterations/k))*k)\n",
    "count = 0\n",
    "for j in range(int(np.ceil(iterations/k))):\n",
    "    theta = 1\n",
    "    y = x\n",
    "    for i in range(k):\n",
    "        x_next = y - t * G @ y\n",
    "        theta_next = 0.5 * (-theta**2+np.sqrt(theta**4-2*(theta**2)*q+4*theta**2+q**2)+q)\n",
    "        beta = theta*(1-theta) / (theta**2+theta_next)\n",
    "        y = x_next+beta*(x_next-x)\n",
    "        value_fig_3[count] = 0.5*x_next.T @ G @ x_next\n",
    "        x = x_next\n",
    "        theta = theta_next\n",
    "        count += 1\n",
    "\n",
    "print(0.5*x.T @ G @ x)"
   ]
  },
  {
   "cell_type": "markdown",
   "metadata": {},
   "source": [
    "Alg. 3 with restarts when $\\nabla f(y^{k-1})^T(x^k-x^{k-1})>0$"
   ]
  },
  {
   "cell_type": "code",
   "execution_count": null,
   "metadata": {},
   "outputs": [
    {
     "name": "stdout",
     "output_type": "stream",
     "text": [
      "2.189716717368944\n"
     ]
    }
   ],
   "source": [
    "np.random.seed(42)\n",
    "iterations = 5000\n",
    "q = 0\n",
    "theta = 1\n",
    "eigvals = np.linalg.eigvals(G)\n",
    "t = 1 / max(eigvals)\n",
    "x = y = np.random.uniform(-G.shape[1], G.shape[1], G.shape[1])\n",
    "k = 700\n",
    "\n",
    "value_alg_3_gradient = np.zeros(iterations+1)\n",
    "count = 0\n",
    "while count < iterations:\n",
    "    theta = 1\n",
    "    y = x\n",
    "    while True:\n",
    "        x_next = y - t * G @ y\n",
    "        theta_next = 0.5 * (-theta**2+np.sqrt(theta**4-2*(theta**2)*q+4*theta**2+q**2)+q)\n",
    "        beta = theta*(1-theta) / (theta**2+theta_next)\n",
    "        y_next = x_next+beta*(x_next-x)\n",
    "        value_alg_3_gradient[count] = 0.5*x_next.T @ G @ x_next\n",
    "        count += 1\n",
    "        if ((G@y).T @ (x_next - x) > 0):\n",
    "            break\n",
    "        x = x_next\n",
    "        y = y_next\n",
    "        theta = theta_next\n",
    "        if count > iterations:\n",
    "            break\n",
    "    if count > iterations:\n",
    "        break\n",
    "\n",
    "print(0.5*x.T @ G @ x)"
   ]
  },
  {
   "cell_type": "markdown",
   "metadata": {},
   "source": [
    "Alg. 3 with restarts when $f(x^k) > f(x^{k-1})$"
   ]
  },
  {
   "cell_type": "code",
   "execution_count": null,
   "metadata": {},
   "outputs": [
    {
     "name": "stdout",
     "output_type": "stream",
     "text": [
      "2.199090694074419\n"
     ]
    }
   ],
   "source": [
    "np.random.seed(42)\n",
    "iterations = 5000\n",
    "q = 0\n",
    "theta = 1\n",
    "eigvals = np.linalg.eigvals(G)\n",
    "t = 1 / max(eigvals)\n",
    "x = y = np.random.uniform(-G.shape[1], G.shape[1], G.shape[1])\n",
    "k = 700\n",
    "\n",
    "value_alg_3_function = np.zeros(iterations+1)\n",
    "count = 0\n",
    "while count < iterations:\n",
    "    theta = 1\n",
    "    y = x\n",
    "    while True:\n",
    "        x_next = y - t * G @ y\n",
    "        theta_next = 0.5 * (-theta**2+np.sqrt(theta**4-2*(theta**2)*q+4*theta**2+q**2)+q)\n",
    "        beta = theta*(1-theta) / (theta**2+theta_next)\n",
    "        y_next = x_next+beta*(x_next-x)\n",
    "        value_alg_3_function[count] = 0.5*x_next.T @ G @ x_next\n",
    "        count += 1\n",
    "        if (x_next.T @ G @ x_next > x @ G @ x):\n",
    "            break\n",
    "        x = x_next\n",
    "        y = y_next\n",
    "        theta = theta_next\n",
    "        if count > iterations:\n",
    "            break\n",
    "    if count > iterations:\n",
    "        break\n",
    "\n",
    "print(0.5*x.T @ G @ x)"
   ]
  },
  {
   "cell_type": "markdown",
   "metadata": {},
   "source": [
    "Fig. 3 n =500"
   ]
  },
  {
   "cell_type": "code",
   "execution_count": 779,
   "metadata": {},
   "outputs": [
    {
     "data": {
      "text/plain": [
       "<matplotlib.legend.Legend at 0x17553615400>"
      ]
     },
     "execution_count": 779,
     "metadata": {},
     "output_type": "execute_result"
    },
    {
     "data": {
      "image/png": "[encoded data removed]",
      "text/plain": [
       "<Figure size 640x480 with 1 Axes>"
      ]
     },
     "metadata": {},
     "output_type": "display_data"
    }
   ],
   "source": [
    "plt.plot(value_alg_3_k_400, label='400')\n",
    "plt.plot(value_alg_3_k_700, label='700')\n",
    "plt.plot(value_alg_3, label=\"optimal\")\n",
    "plt.plot(value_fig_3, label=\"q=q*\")\n",
    "plt.plot(value_alg_3_function, label='function')\n",
    "plt.plot(value_alg_3_gradient, label='gradient')\n",
    "plt.yscale('log')\n",
    "plt.xlim(0, iterations)\n",
    "plt.legend()"
   ]
  },
  {
   "cell_type": "code",
   "execution_count": 1002,
   "metadata": {},
   "outputs": [
    {
     "name": "stdout",
     "output_type": "stream",
     "text": [
      "The generated matrix is Positive Definite = True\n",
      "Condition number = 173159.27596469762\n"
     ]
    }
   ],
   "source": [
    "np.random.seed(42)\n",
    "temp = np.random.normal(loc=0, scale=1, size=(200,200))\n",
    "G = temp @ temp.T\n",
    "\n",
    "print(\"The generated matrix is Positive Definite =\", np.all(np.linalg.eigvals(G) > 0))\n",
    "print(\"Condition number =\", max(np.linalg.eigvals(G))/min(np.linalg.eigvals(G)))"
   ]
  },
  {
   "cell_type": "markdown",
   "metadata": {},
   "source": [
    "Alg. 3 where $k = e\\sqrt{8L/\\mu}$"
   ]
  },
  {
   "cell_type": "code",
   "execution_count": 974,
   "metadata": {},
   "outputs": [
    {
     "name": "stdout",
     "output_type": "stream",
     "text": [
      "0.0001217996758660785\n"
     ]
    }
   ],
   "source": [
    "np.random.seed(42)\n",
    "iterations = 5000\n",
    "q = 0\n",
    "theta = 1\n",
    "eigvals = np.linalg.eigvals(G)\n",
    "t = 1 / max(eigvals)\n",
    "x = y = np.random.uniform(-G.shape[1], G.shape[1], G.shape[1])\n",
    "k = int(np.e * np.sqrt(8*(max(eigvals) / min(eigvals))))\n",
    "\n",
    "value_alg_3 = np.zeros(int(np.ceil(iterations/k))*k)\n",
    "count = 0\n",
    "for j in range(int(np.ceil(iterations/k))):\n",
    "    theta = 1\n",
    "    for i in range(k):\n",
    "        x_next = y - t * G @ y\n",
    "        theta_next = 0.5 * (-theta**2+np.sqrt(theta**4-2*(theta**2)*q+4*theta**2+q**2)+q)\n",
    "        beta = theta*(1-theta) / (theta**2+theta_next)\n",
    "        y = x_next+beta*(x_next-x)\n",
    "        value_alg_3[count] = 0.5*x_next.T @ G @ x_next\n",
    "        x = x_next\n",
    "        theta = theta_next\n",
    "        count += 1\n",
    "\n",
    "print(0.5*x.T @ G @ x)"
   ]
  },
  {
   "cell_type": "markdown",
   "metadata": {},
   "source": [
    "Alg. 1 with $q = q^*$"
   ]
  },
  {
   "cell_type": "code",
   "execution_count": 975,
   "metadata": {},
   "outputs": [
    {
     "name": "stdout",
     "output_type": "stream",
     "text": [
      "1.6233888597425372e-06\n"
     ]
    }
   ],
   "source": [
    "np.random.seed(42)\n",
    "iterations = 5000\n",
    "theta = 1\n",
    "eigvals = np.linalg.eigvals(G)\n",
    "# Condition nuber\n",
    "q = (max(eigvals) / min(eigvals)) ** -1\n",
    "t = 1 / max(eigvals)\n",
    "x = y = np.random.uniform(-G.shape[1], G.shape[1], G.shape[1])\n",
    "\n",
    "value_q_star = np.zeros(iterations)\n",
    "for i in range(iterations):\n",
    "    x_next = y - t * G @ y\n",
    "    theta_next = 0.5 * (-theta**2+np.sqrt(theta**4-2*(theta**2)*q+4*theta**2+q**2)+q)\n",
    "    beta = theta*(1-theta) / (theta**2+theta_next)\n",
    "    y = x_next+beta*(x_next-x)\n",
    "    value_q_star[i] = 0.5*x_next.T @ G @ x_next\n",
    "    x = x_next\n",
    "    theta = theta_next\n",
    "\n",
    "print(0.5*x.T @ G @ x)"
   ]
  },
  {
   "cell_type": "markdown",
   "metadata": {},
   "source": [
    "Alg. 3 with $k=400$"
   ]
  },
  {
   "cell_type": "code",
   "execution_count": 976,
   "metadata": {},
   "outputs": [
    {
     "name": "stdout",
     "output_type": "stream",
     "text": [
      "1.1199140753427945\n"
     ]
    }
   ],
   "source": [
    "np.random.seed(42)\n",
    "iterations = 5000\n",
    "q = 0\n",
    "theta = 1\n",
    "eigvals = np.linalg.eigvals(G)\n",
    "t = 1 / max(eigvals)\n",
    "x = y = np.random.uniform(-G.shape[1], G.shape[1], G.shape[1])\n",
    "k = 400\n",
    "\n",
    "value_alg_3_k_400 = np.zeros(int(np.ceil(iterations/k))*k)\n",
    "count = 0\n",
    "for j in range(int(np.ceil(iterations/k))):\n",
    "    theta = 1\n",
    "    y = x\n",
    "    for i in range(k):\n",
    "        x_next = y - t * G @ y\n",
    "        theta_next = 0.5 * (-theta**2+np.sqrt(theta**4-2*(theta**2)*q+4*theta**2+q**2)+q)\n",
    "        beta = theta*(1-theta) / (theta**2+theta_next)\n",
    "        y = x_next+beta*(x_next-x)\n",
    "        value_alg_3_k_400[count] = 0.5*x_next.T @ G @ x_next\n",
    "        x = x_next\n",
    "        theta = theta_next\n",
    "        count += 1\n",
    "\n",
    "print(0.5*x.T @ G @ x)"
   ]
  },
  {
   "cell_type": "markdown",
   "metadata": {},
   "source": [
    "Alg. 3 with $k=700$"
   ]
  },
  {
   "cell_type": "code",
   "execution_count": 977,
   "metadata": {},
   "outputs": [
    {
     "name": "stdout",
     "output_type": "stream",
     "text": [
      "0.05629407517250106\n"
     ]
    }
   ],
   "source": [
    "np.random.seed(42)\n",
    "iterations = 5000\n",
    "q = 0\n",
    "theta = 1\n",
    "eigvals = np.linalg.eigvals(G)\n",
    "t = 1 / max(eigvals)\n",
    "x = y = np.random.uniform(-G.shape[1], G.shape[1], G.shape[1])\n",
    "k = 700\n",
    "\n",
    "value_alg_3_k_700 = np.zeros(int(np.ceil(iterations/k))*k)\n",
    "count = 0\n",
    "for j in range(int(np.ceil(iterations/k))):\n",
    "    theta = 1\n",
    "    y = x\n",
    "    for i in range(k):\n",
    "        x_next = y - t * G @ y\n",
    "        theta_next = 0.5 * (-theta**2+np.sqrt(theta**4-2*(theta**2)*q+4*theta**2+q**2)+q)\n",
    "        beta = theta*(1-theta) / (theta**2+theta_next)\n",
    "        y = x_next+beta*(x_next-x)\n",
    "        value_alg_3_k_700[count] = 0.5*x_next.T @ G @ x_next\n",
    "        x = x_next\n",
    "        theta = theta_next\n",
    "        count += 1\n",
    "\n",
    "print(0.5*x.T @ G @ x)"
   ]
  },
  {
   "cell_type": "markdown",
   "metadata": {},
   "source": [
    "Alg. 3 with $q=\\mu/L$"
   ]
  },
  {
   "cell_type": "code",
   "execution_count": 978,
   "metadata": {},
   "outputs": [
    {
     "name": "stdout",
     "output_type": "stream",
     "text": [
      "0.11163052794418175\n"
     ]
    }
   ],
   "source": [
    "np.random.seed(42)\n",
    "iterations = 5000\n",
    "q = (max(eigvals) / min(eigvals)) ** -1\n",
    "theta = 1\n",
    "eigvals = np.linalg.eigvals(G)\n",
    "t = 1 / max(eigvals)\n",
    "x = y = np.random.uniform(-G.shape[1], G.shape[1], G.shape[1])\n",
    "k = 700\n",
    "\n",
    "value_fig_3 = np.zeros(int(np.ceil(iterations/k))*k)\n",
    "count = 0\n",
    "for j in range(int(np.ceil(iterations/k))):\n",
    "    theta = 1\n",
    "    y = x\n",
    "    for i in range(k):\n",
    "        x_next = y - t * G @ y\n",
    "        theta_next = 0.5 * (-theta**2+np.sqrt(theta**4-2*(theta**2)*q+4*theta**2+q**2)+q)\n",
    "        beta = theta*(1-theta) / (theta**2+theta_next)\n",
    "        y = x_next+beta*(x_next-x)\n",
    "        value_fig_3[count] = 0.5*x_next.T @ G @ x_next\n",
    "        x = x_next\n",
    "        theta = theta_next\n",
    "        count += 1\n",
    "\n",
    "print(0.5*x.T @ G @ x)"
   ]
  },
  {
   "cell_type": "markdown",
   "metadata": {},
   "source": [
    "Alg. 3 with restarts when $\\nabla f(y^{k-1})^T(x^k-x^{k-1})>0$"
   ]
  },
  {
   "cell_type": "code",
   "execution_count": null,
   "metadata": {},
   "outputs": [
    {
     "name": "stdout",
     "output_type": "stream",
     "text": [
      "5.980896089712395e-08\n"
     ]
    }
   ],
   "source": [
    "np.random.seed(42)\n",
    "iterations = 5000\n",
    "q = 0\n",
    "theta = 1\n",
    "eigvals = np.linalg.eigvals(G)\n",
    "t = 1 / max(eigvals)\n",
    "x = y = np.random.uniform(-G.shape[1], G.shape[1], G.shape[1])\n",
    "k = 700\n",
    "\n",
    "value_alg_3_gradient = np.zeros(iterations+1)\n",
    "count = 0\n",
    "while count < iterations:\n",
    "    theta = 1\n",
    "    y = x\n",
    "    while True:\n",
    "        x_next = y - t * G @ y\n",
    "        theta_next = 0.5 * (-theta**2+np.sqrt(theta**4-2*(theta**2)*q+4*theta**2+q**2)+q)\n",
    "        beta = theta*(1-theta) / (theta**2+theta_next)\n",
    "        y_next = x_next+beta*(x_next-x)\n",
    "        value_alg_3_gradient[count] = 0.5*x_next.T @ G @ x_next\n",
    "        count += 1\n",
    "        if ((G@y).T @ (x_next - x) > 0):\n",
    "            break\n",
    "        x = x_next\n",
    "        y = y_next\n",
    "        theta = theta_next\n",
    "        if count > iterations:\n",
    "            break\n",
    "    if count > iterations:\n",
    "        break\n",
    "\n",
    "print(0.5*x.T @ G @ x)"
   ]
  },
  {
   "cell_type": "markdown",
   "metadata": {},
   "source": [
    "Alg. 3 with restarts when $f(x^k) > f(x^{k-1})$"
   ]
  },
  {
   "cell_type": "code",
   "execution_count": null,
   "metadata": {},
   "outputs": [
    {
     "name": "stdout",
     "output_type": "stream",
     "text": [
      "4.956260876729838e-08\n"
     ]
    }
   ],
   "source": [
    "np.random.seed(42)\n",
    "iterations = 5000\n",
    "q = 0\n",
    "theta = 1\n",
    "eigvals = np.linalg.eigvals(G)\n",
    "t = 1 / max(eigvals)\n",
    "x = y = np.random.uniform(-G.shape[1], G.shape[1], G.shape[1])\n",
    "k = 700\n",
    "\n",
    "value_alg_3_function = np.zeros(iterations+1)\n",
    "count = 0\n",
    "while count < iterations:\n",
    "    theta = 1\n",
    "    y = x\n",
    "    while True:\n",
    "        x_next = y - t * G @ y\n",
    "        theta_next = 0.5 * (-theta**2+np.sqrt(theta**4-2*(theta**2)*q+4*theta**2+q**2)+q)\n",
    "        beta = theta*(1-theta) / (theta**2+theta_next)\n",
    "        y_next = x_next+beta*(x_next-x)\n",
    "        value_alg_3_function[count] = 0.5*x_next.T @ G @ x_next\n",
    "        count += 1\n",
    "        if (x_next.T @ G @ x_next > x @ G @ x):\n",
    "            break\n",
    "        x = x_next\n",
    "        y = y_next\n",
    "        theta = theta_next\n",
    "        if count > iterations:\n",
    "            break\n",
    "    if count > iterations:\n",
    "        break\n",
    "\n",
    "print(0.5*x.T @ G @ x)"
   ]
  },
  {
   "cell_type": "markdown",
   "metadata": {},
   "source": [
    "Gradient descent with fixed step-size"
   ]
  },
  {
   "cell_type": "code",
   "execution_count": 1017,
   "metadata": {},
   "outputs": [
    {
     "name": "stdout",
     "output_type": "stream",
     "text": [
      "1064157.695329167\n"
     ]
    }
   ],
   "source": [
    "np.random.seed(42)\n",
    "iterations = 5000\n",
    "x = np.random.uniform(-G.shape[1], G.shape[1], G.shape[1])\n",
    "eigen = np.linalg.eigvals(G)\n",
    "t = 2 / (min(eigen) + max(eigen))\n",
    "value_gradient = np.zeros(iterations+1)\n",
    "for i in range(iterations):\n",
    "    x =  x - t * G @ x\n",
    "    value_gradient[i] = 0.5*x@G@x\n",
    "print(0.5*x.T @ G @ x)"
   ]
  },
  {
   "cell_type": "markdown",
   "metadata": {},
   "source": [
    "Fig. 3 n = 200"
   ]
  },
  {
   "cell_type": "code",
   "execution_count": 1001,
   "metadata": {},
   "outputs": [
    {
     "data": {
      "text/plain": [
       "<matplotlib.legend.Legend at 0x17586f91d90>"
      ]
     },
     "execution_count": 1001,
     "metadata": {},
     "output_type": "execute_result"
    },
    {
     "data": {
      "image/png": "[encoded data removed]",
      "text/plain": [
       "<Figure size 640x480 with 1 Axes>"
      ]
     },
     "metadata": {},
     "output_type": "display_data"
    }
   ],
   "source": [
    "plt.plot(value_alg_3_k_400, label='Restart every 400')\n",
    "plt.plot(value_alg_3_k_700, label='Restart every 700')\n",
    "plt.plot(value_alg_3, label=\"Restart optimal\")\n",
    "plt.plot(value_fig_3, label=\"q=q*\")\n",
    "plt.plot(value_alg_3_function, label='Adaptive Restart - Function scheme')\n",
    "plt.plot(value_alg_3_gradient, label='Adaptive Restart - Gradient scheme')\n",
    "plt.plot(value_gradient, label='Gradient descent')\n",
    "plt.yscale('log')\n",
    "plt.xlim(0, iterations)\n",
    "plt.legend()"
   ]
  },
  {
   "cell_type": "markdown",
   "metadata": {},
   "source": [
    "Code for Fig. 4\n",
    "Not Done"
   ]
  },
  {
   "cell_type": "code",
   "execution_count": 1021,
   "metadata": {},
   "outputs": [],
   "source": [
    "# Generating problem data\n",
    "np.random.seed(2)\n",
    "n = 20\n",
    "m = 100\n",
    "a = np.random.randn(m,n)\n",
    "b = np.random.randn(m)"
   ]
  },
  {
   "cell_type": "code",
   "execution_count": 1012,
   "metadata": {},
   "outputs": [
    {
     "name": "stdout",
     "output_type": "stream",
     "text": [
      "Objective Value = 644191.2311266784\n"
     ]
    }
   ],
   "source": [
    "rho = 0.05\n",
    "var = cp.Variable(n)\n",
    "objective = cp.Minimize(rho * cp.sum([cp.exp((a[i] @ var - b[i])/rho) for i in range(m)]))\n",
    "problem_0_05 = cp.Problem(objective)\n",
    "problem_0_05.solve()\n",
    "print(\"Objective Value =\", problem_0_05.value)"
   ]
  },
  {
   "cell_type": "code",
   "execution_count": 1013,
   "metadata": {},
   "outputs": [
    {
     "name": "stdout",
     "output_type": "stream",
     "text": [
      "Objective Value = 1599.6714769333096\n"
     ]
    }
   ],
   "source": [
    "rho = 0.1\n",
    "var = cp.Variable(n)\n",
    "objective = cp.Minimize(rho * cp.sum([cp.exp((a[i] @ var - b[i])/rho) for i in range(m)]))\n",
    "problem_0_1 = cp.Problem(objective)\n",
    "problem_0_1.solve()\n",
    "print(\"Objective Value =\", problem_0_1.value)"
   ]
  },
  {
   "cell_type": "code",
   "execution_count": 1014,
   "metadata": {},
   "outputs": [
    {
     "name": "stdout",
     "output_type": "stream",
     "text": [
      "Objective Value = 62.849698277811804\n"
     ]
    }
   ],
   "source": [
    "rho = 0.5\n",
    "var = cp.Variable(n)\n",
    "objective = cp.Minimize(rho * cp.sum([cp.exp((a[i] @ var - b[i])/rho) for i in range(m)]))\n",
    "problem_0_5 = cp.Problem(objective)\n",
    "problem_0_5.solve()\n",
    "print(\"Objective Value =\", problem_0_5.value)"
   ]
  },
  {
   "cell_type": "code",
   "execution_count": 1015,
   "metadata": {},
   "outputs": [
    {
     "name": "stdout",
     "output_type": "stream",
     "text": [
      "Objective Value = 89.23565630711143\n"
     ]
    }
   ],
   "source": [
    "rho = 1\n",
    "var = cp.Variable(n)\n",
    "objective = cp.Minimize(rho * cp.sum([cp.exp((a[i] @ var - b[i])/rho) for i in range(m)]))\n",
    "problem_1 = cp.Problem(objective)\n",
    "problem_1.solve()\n",
    "print(\"Objective Value =\", problem_1.value)"
   ]
  },
  {
   "cell_type": "markdown",
   "metadata": {},
   "source": [
    "Gradient Descent for Fig. 4"
   ]
  },
  {
   "cell_type": "code",
   "execution_count": null,
   "metadata": {},
   "outputs": [
    {
     "name": "stdout",
     "output_type": "stream",
     "text": [
      "1064157.695329167\n"
     ]
    }
   ],
   "source": [
    "# NOTE\n",
    "# NOTE\n",
    "# NOTE\n",
    "# The step size needs to choosen using the backtracking scheme described in [3, some sing 5.3]\n",
    "# Also not done\n",
    "np.random.seed(42)\n",
    "iterations = 1000\n",
    "x = np.random.uniform(-G.shape[1], G.shape[1], G.shape[1])\n",
    "eigen = np.linalg.eigvals(G)\n",
    "t = 2 / (min(eigen) + max(eigen))\n",
    "value_gradient = np.zeros(iterations+1)\n",
    "for i in range(iterations):\n",
    "    x =  x - t * G @ x\n",
    "    value_gradient[i] = 0.5*x@G@x\n",
    "print(0.5*x.T @ G @ x)"
   ]
  },
  {
   "cell_type": "markdown",
   "metadata": {},
   "source": [
    "Alg. 1 for Fig. 4"
   ]
  },
  {
   "cell_type": "code",
   "execution_count": null,
   "metadata": {},
   "outputs": [],
   "source": [
    "np.random.seed(42)\n",
    "iterations = 5000\n",
    "q = 0\n",
    "theta = 1\n",
    "eigvals = np.linalg.eigvals(A)\n",
    "t = 1 / max(eigvals)\n",
    "x = y = np.random.uniform(-A.shape[1], A.shape[1], A.shape[1])\n",
    "\n",
    "value_q_0 = np.zeros(5000)\n",
    "\n",
    "for i in range(iterations):\n",
    "    x_next = y - t * A @ y\n",
    "    theta_next = 0.5 * (-theta**2+np.sqrt(theta**4-2*(theta**2)*q+4*theta**2+q**2)+q)\n",
    "    beta = theta*(1-theta) / (theta**2+theta_next)\n",
    "    y = x_next+beta*(x_next-x)\n",
    "    value_q_0[i] = 0.5*x_next.T @ A @ x_next\n",
    "    x = x_next\n",
    "    theta = theta_next\n",
    "\n",
    "print(0.5*x.T @ A @ x)"
   ]
  },
  {
   "cell_type": "markdown",
   "metadata": {},
   "source": [
    "Code for Fig. 5"
   ]
  },
  {
   "cell_type": "code",
   "execution_count": null,
   "metadata": {},
   "outputs": [],
   "source": [
    "# NOTE\n",
    "# Dimension of the problem is half due to numerical instability experienced\n",
    "# At higher dimesnions\n",
    "\n",
    "# Generating instance data\n",
    "mean = 0\n",
    "std = 1\n",
    "n = 1000\n",
    "m = 250\n",
    "# m = 100\n",
    "s = 50\n",
    "# s = 20\n",
    "\n",
    "A = np.random.normal(loc=mean, scale=std, size=(m,n))\n",
    "\n",
    "num_nonzero = s\n",
    "indices = np.random.choice(n, num_nonzero, replace=False)\n",
    "y = np.zeros(n)\n",
    "for i in indices:\n",
    "    row = i % n\n",
    "    y[row] = np.random.randn()\n",
    "\n",
    "w = np.random.normal(loc=0, scale=0.1, size=m)\n",
    "b = A @ y + w\n"
   ]
  },
  {
   "cell_type": "code",
   "execution_count": 32,
   "metadata": {},
   "outputs": [
    {
     "name": "stdout",
     "output_type": "stream",
     "text": [
      "40.53105877179716\n"
     ]
    }
   ],
   "source": [
    "rho = 1\n",
    "x_cvxpy = cp.Variable(n)\n",
    "objective = cp.Minimize(0.5 * cp.sum_squares(A@x_cvxpy - b) + rho * cp.norm(x_cvxpy,1))\n",
    "problem = cp.Problem(objective)\n",
    "problem.solve(solver=cp.CLARABEL, tol_gap_abs=1e-10, tol_gap_rel=1e-10,tol_feas=1e-10, tol_ktratio=1e-10)\n",
    "print(problem.value)"
   ]
  },
  {
   "cell_type": "markdown",
   "metadata": {},
   "source": [
    "Alg. 4"
   ]
  },
  {
   "cell_type": "code",
   "execution_count": 33,
   "metadata": {},
   "outputs": [],
   "source": [
    "# Soft-Thresholding Operator\n",
    "def STO(x, alpha):\n",
    "    result = np.maximum(x - alpha, 0) - np.maximum(-x - alpha, 0)\n",
    "    return result"
   ]
  },
  {
   "cell_type": "code",
   "execution_count": 35,
   "metadata": {},
   "outputs": [
    {
     "name": "stdout",
     "output_type": "stream",
     "text": [
      "42.80986856862064\n"
     ]
    }
   ],
   "source": [
    "iterations = 4000\n",
    "rho = 1\n",
    "x = np.zeros(n)\n",
    "t = 1 / max(np.linalg.eigvals(A.T @ A))\n",
    "\n",
    "obj_val_ista = []\n",
    "for i in range(iterations):\n",
    "    alpha = rho * t\n",
    "    x_next = x - t * A.T @ (A@x - b)\n",
    "    # x = STO(x - t * A.T @ (A@x - b), alpha)\n",
    "    x = np.maximum(x_next - alpha, 0) - np.maximum(-x_next - alpha, 0)\n",
    "    obj_val_ista.append(0.5 * np.linalg.norm(A@x-b,2)**2 + rho * np.linalg.norm(x,1))\n",
    "    \n",
    "print(0.5 * np.linalg.norm(A@x-b,2)**2 + rho * np.linalg.norm(x,1))"
   ]
  },
  {
   "cell_type": "markdown",
   "metadata": {},
   "source": [
    "Alg. 5"
   ]
  },
  {
   "cell_type": "code",
   "execution_count": 50,
   "metadata": {},
   "outputs": [
    {
     "name": "stdout",
     "output_type": "stream",
     "text": [
      "40.53105877181935\n"
     ]
    }
   ],
   "source": [
    "iterations = 4000\n",
    "rho = 1\n",
    "x = np.zeros(n)\n",
    "t = 1 / max(np.linalg.eigvals(A.T @ A))\n",
    "theta = 1\n",
    "\n",
    "obj_val_fista = []\n",
    "for i in range(iterations):\n",
    "    alpha = rho * t\n",
    "    x_next = y - t * A.T @ (A@y - b)\n",
    "    # x = STO(x - t * A.T @ (A@x - b), alpha)\n",
    "    x_next = np.maximum(x_next - alpha, 0) - np.maximum(-x_next - alpha, 0)\n",
    "    obj_val_fista.append(0.5 * np.linalg.norm(A@x_next-b,2)**2 + rho * np.linalg.norm(x_next,1))\n",
    "    \n",
    "    theta_new = (1 + np.sqrt(1+4*theta**2))/2\n",
    "    beta = (theta - 1) / theta_new\n",
    "    y = x_next + beta * (x_next - x)\n",
    "    x = x_next\n",
    "    theta = theta_new\n",
    "    \n",
    "print(0.5 * np.linalg.norm(A@x-b,2)**2 + rho * np.linalg.norm(x,1))"
   ]
  },
  {
   "cell_type": "markdown",
   "metadata": {},
   "source": [
    "FISTA with gradient restarts"
   ]
  },
  {
   "cell_type": "code",
   "execution_count": 57,
   "metadata": {},
   "outputs": [
    {
     "name": "stdout",
     "output_type": "stream",
     "text": [
      "40.53105877156579\n"
     ]
    }
   ],
   "source": [
    "iterations = 4000\n",
    "rho = 1\n",
    "x = np.zeros(n)\n",
    "t = 1 / max(np.linalg.eigvals(A.T @ A))\n",
    "theta = 1\n",
    "count = 0\n",
    "\n",
    "\n",
    "obj_val_fista_grad_restarts = []\n",
    "while count < iterations:\n",
    "    theta = 1\n",
    "    y = x\n",
    "    while True:\n",
    "        count += 1\n",
    "        alpha = rho * t\n",
    "        x_next = y - t * A.T @ (A@y - b)\n",
    "        # x = STO(x - t * A.T @ (A@x - b), alpha)\n",
    "        x_next = np.maximum(x_next - alpha, 0) - np.maximum(-x_next - alpha, 0)\n",
    "        obj_val_fista_grad_restarts.append(0.5 * np.linalg.norm(A@x_next-b,2)**2 + rho * np.linalg.norm(x_next,1))\n",
    "        \n",
    "        theta_new = (1 + np.sqrt(1+4*theta**2))/2\n",
    "        beta = (theta - 1) / theta_new\n",
    "        # Not sure if the if statement is here or earlier/later\n",
    "        if ((y -x_next).T @ (x_next - x) > 0):\n",
    "            break\n",
    "        y = x_next + beta * (x_next - x)\n",
    "        x = x_next\n",
    "        theta = theta_new\n",
    "        if count > iterations:\n",
    "            break\n",
    "    if count > iterations:\n",
    "        break\n",
    "    \n",
    "print(0.5 * np.linalg.norm(A@x-b,2)**2 + rho * np.linalg.norm(x,1))"
   ]
  },
  {
   "cell_type": "markdown",
   "metadata": {},
   "source": [
    "FISTA with objective restarts"
   ]
  },
  {
   "cell_type": "code",
   "execution_count": 63,
   "metadata": {},
   "outputs": [
    {
     "name": "stdout",
     "output_type": "stream",
     "text": [
      "40.53105877156578\n"
     ]
    }
   ],
   "source": [
    "iterations = 4000\n",
    "rho = 1\n",
    "x = np.zeros(n)\n",
    "t = 1 / max(np.linalg.eigvals(A.T @ A))\n",
    "theta = 1\n",
    "count = 0\n",
    "\n",
    "\n",
    "obj_val_fista_obj_restarts = []\n",
    "while count < iterations:\n",
    "    theta = 1\n",
    "    y = x\n",
    "    while True:\n",
    "        count += 1\n",
    "        alpha = rho * t\n",
    "        x_next = y - t * A.T @ (A@y - b)\n",
    "        # x = STO(x - t * A.T @ (A@x - b), alpha)\n",
    "        x_next = np.maximum(x_next - alpha, 0) - np.maximum(-x_next - alpha, 0)\n",
    "        obj_val_fista_obj_restarts.append(0.5 * np.linalg.norm(A@x_next-b,2)**2 + rho * np.linalg.norm(x_next,1))\n",
    "        \n",
    "        theta_new = (1 + np.sqrt(1+4*theta**2))/2\n",
    "        beta = (theta - 1) / theta_new\n",
    "        # Not sure if the if statement is here or earlier/later\n",
    "        if count == 1:\n",
    "            if (obj_val_fista_obj_restarts[count-1] > 0.5 * np.linalg.norm(A@np.zeros(n)-b,2)**2 + rho * np.linalg.norm(np.zeros(n),1)):\n",
    "                break\n",
    "        elif (obj_val_fista_obj_restarts[count-1] > obj_val_fista_obj_restarts[count-2]):\n",
    "            break\n",
    "        y = x_next + beta * (x_next - x)\n",
    "        x = x_next\n",
    "        theta = theta_new\n",
    "        if count > iterations:\n",
    "            break\n",
    "    if count > iterations:\n",
    "        break\n",
    "    \n",
    "print(0.5 * np.linalg.norm(A@x-b,2)**2 + rho * np.linalg.norm(x,1))"
   ]
  },
  {
   "cell_type": "code",
   "execution_count": 65,
   "metadata": {},
   "outputs": [
    {
     "data": {
      "text/plain": [
       "<matplotlib.legend.Legend at 0x1e6a58112e0>"
      ]
     },
     "execution_count": 65,
     "metadata": {},
     "output_type": "execute_result"
    },
    {
     "data": {
      "image/png": "[encoded data removed]",
      "text/plain": [
       "<Figure size 640x480 with 1 Axes>"
      ]
     },
     "metadata": {},
     "output_type": "display_data"
    }
   ],
   "source": [
    "plt.plot((obj_val_ista - problem.value)/problem.value, label=\"ISTA\")\n",
    "plt.plot((obj_val_fista - problem.value)/problem.value, label=\"FISTA\")\n",
    "plt.plot((obj_val_fista_obj_restarts - problem.value)/problem.value, label=\"function restart\")\n",
    "plt.plot((obj_val_fista_grad_restarts - problem.value)/problem.value, label=\"gradient restart\")\n",
    "plt.yscale('log')\n",
    "plt.legend()"
   ]
  },
  {
   "cell_type": "markdown",
   "metadata": {},
   "source": [
    "Code for Fg. 6"
   ]
  },
  {
   "cell_type": "markdown",
   "metadata": {},
   "source": [
    "Not sure how they generated the matrix Q and vector q, what is \"random\""
   ]
  },
  {
   "cell_type": "code",
   "execution_count": 182,
   "metadata": {},
   "outputs": [
    {
     "name": "stdout",
     "output_type": "stream",
     "text": [
      "The generated matrix is Positive Definite = True\n",
      "Condition number = 785823.1413355129\n"
     ]
    }
   ],
   "source": [
    "# Data\n",
    "np.random.seed(145)\n",
    "def gen_pd_matrix(n, mean, std):\n",
    "    M = np.random.normal(loc=mean, scale=std, size=(n,n))\n",
    "    A = M @ M.T\n",
    "    return A\n",
    "# The one in the paper is n = 500\n",
    "n = 500\n",
    "Q = gen_pd_matrix(n, 0, 1)\n",
    "q = np.random.randn(n)\n",
    "b = np.ones(n)\n",
    "a = -np.ones(n)\n",
    "eigen_values = np.linalg.eigvals(Q)\n",
    "print(\"The generated matrix is Positive Definite =\", np.all(np.linalg.eigvals(Q) > 0))\n",
    "print(\"Condition number =\", max(eigen_values)/min(eigen_values))"
   ]
  },
  {
   "cell_type": "code",
   "execution_count": 193,
   "metadata": {},
   "outputs": [],
   "source": [
    "x_cvxpy = cp.Variable(Q.shape[0])\n",
    "objective = cp.Minimize(0.5*cp.quad_form(x_cvxpy, cp.psd_wrap(Q)) + q.T @ x_cvxpy)\n",
    "# objective = cp.Minimize(0.5*cp.quad_form(x_cvxpy, Q) + q.T @ x_cvxpy)\n",
    "\n",
    "constraints = [a <= x_cvxpy, x_cvxpy <= b]\n",
    "problem = cp.Problem(objective, constraints)\n",
    "problem.solve()\n",
    "obj_cvxpy = objective.value"
   ]
  },
  {
   "cell_type": "markdown",
   "metadata": {},
   "source": [
    "Projected Gradient"
   ]
  },
  {
   "cell_type": "code",
   "execution_count": 177,
   "metadata": {},
   "outputs": [],
   "source": [
    "def projected_gradient(x, a, b):\n",
    "    z = np.empty(x.shape[0])\n",
    "    \n",
    "    for i in range(x.shape[0]):\n",
    "        if (x[i] <= a[i]):\n",
    "            z[i] = a[i]\n",
    "        elif (a[i] <= x[i] and x[i] <= b[i]):\n",
    "            z[i] = x[i]\n",
    "        elif (x[i] >= b[i]):\n",
    "            z[i] = b[i]\n",
    "        else:\n",
    "            print(\"x[i] =\",x[i])\n",
    "            print(\"Error in projection step\")\n",
    "            \n",
    "    return z"
   ]
  },
  {
   "cell_type": "code",
   "execution_count": 192,
   "metadata": {},
   "outputs": [],
   "source": [
    "np.random.seed(42)\n",
    "t = 1 / max(eigen_values)\n",
    "iterations = 2000\n",
    "x = np.random.randn(Q.shape[0])\n",
    "obj_proj_grad = []\n",
    "\n",
    "for i in range(iterations):\n",
    "    x = projected_gradient(x - t * (Q @ x + q), a, b)\n",
    "    obj_proj_grad.append(0.5*x.T@Q@x + q.T@x)"
   ]
  },
  {
   "cell_type": "markdown",
   "metadata": {},
   "source": [
    "Accelerated Projected Gradient"
   ]
  },
  {
   "cell_type": "markdown",
   "metadata": {},
   "source": [
    "The don't state what q should be for the acceleration so I choose $q^*$"
   ]
  },
  {
   "cell_type": "code",
   "execution_count": 202,
   "metadata": {},
   "outputs": [],
   "source": [
    "np.random.seed(42)\n",
    "iterations = 2000\n",
    "\n",
    "t = 1 / max(eigen_values)\n",
    "theta = 1\n",
    "\n",
    "# The acceleration q is p in the code\n",
    "p = (max(eigen_values) / min(eigen_values)) ** -1\n",
    "\n",
    "x = y = np.random.randn(Q.shape[0])\n",
    "\n",
    "obj_proj_grad_acc = []\n",
    "\n",
    "for i in range(iterations):\n",
    "    x_next = projected_gradient(y - t * (Q @ y + q), a, b)\n",
    "    \n",
    "    theta_next = 0.5 * (-theta**2+np.sqrt(theta**4-2*(theta**2)*p+4*theta**2+p**2)+p)\n",
    "    beta = theta*(1-theta) / (theta**2+theta_next)\n",
    "    \n",
    "    y = x_next + beta*(x_next - x)\n",
    "    \n",
    "    x = x_next\n",
    "    theta = theta_next\n",
    "    \n",
    "    obj_proj_grad_acc.append(0.5*y.T@Q@y + q.T@y)"
   ]
  },
  {
   "cell_type": "markdown",
   "metadata": {},
   "source": [
    "Projected Gradient with Function Restarts"
   ]
  },
  {
   "cell_type": "code",
   "execution_count": 207,
   "metadata": {},
   "outputs": [],
   "source": [
    "\n",
    "np.random.seed(42)\n",
    "\n",
    "iterations = 2000\n",
    "\n",
    "t = 1 / max(eigen_values)\n",
    "theta = 1\n",
    "\n",
    "x_0 = x = np.random.randn(Q.shape[0])\n",
    "\n",
    "obj_proj_grad_func_rest = []\n",
    "\n",
    "count = 0\n",
    "\n",
    "for i in range(iterations):\n",
    "    theta = 1\n",
    "    y = x\n",
    "    while True:\n",
    "        count += 1\n",
    "        \n",
    "        x_next = projected_gradient(y - t * (Q @ y + q), a, b)\n",
    "        \n",
    "        theta_next = 0.5 * (-theta**2+np.sqrt(theta**4-2*(theta**2)*p+4*theta**2+p**2)+p)\n",
    "        beta = theta*(1-theta) / (theta**2+theta_next)\n",
    "        \n",
    "        y = x_next + beta*(x_next - x)\n",
    "        \n",
    "        x = x_next\n",
    "        theta = theta_next\n",
    "        \n",
    "        obj_proj_grad_func_rest.append(0.5*y.T@Q@y + q.T@y)\n",
    "        \n",
    "        if count == 1:\n",
    "            if (obj_proj_grad_func_rest[count-1] > 0.5*x_0.T@Q@x_0 + q.T@x_0):\n",
    "                break\n",
    "        elif (obj_proj_grad_func_rest[count-1] > obj_proj_grad_func_rest[count-2]):\n",
    "            break\n",
    "        if count > iterations:\n",
    "            break\n",
    "        \n",
    "    if count > iterations:\n",
    "        break\n",
    "        \n",
    "    "
   ]
  },
  {
   "cell_type": "markdown",
   "metadata": {},
   "source": [
    "Projected Gradient with Gradient Restarts"
   ]
  },
  {
   "cell_type": "code",
   "execution_count": 257,
   "metadata": {},
   "outputs": [],
   "source": [
    "\n",
    "np.random.seed(42)\n",
    "\n",
    "iterations = 2000\n",
    "\n",
    "t = 1 / max(eigen_values)\n",
    "theta = 1\n",
    "\n",
    "x_0 = x = np.random.randn(Q.shape[0])\n",
    "\n",
    "obj_proj_grad_grad_rest = []\n",
    "\n",
    "count = 0\n",
    "\n",
    "for i in range(iterations):\n",
    "    theta = 1\n",
    "    y = x\n",
    "    while True:\n",
    "        count += 1\n",
    "        \n",
    "        x_next = projected_gradient(y - t * (Q @ y + q), a, b)\n",
    "        \n",
    "        theta_next = 0.5 * (-theta**2+np.sqrt(theta**4-2*(theta**2)*p+4*theta**2+p**2)+p)\n",
    "        beta = theta*(1-theta) / (theta**2+theta_next)\n",
    "        \n",
    "        y_next = x_next + beta*(x_next - x)\n",
    "        obj_proj_grad_grad_rest.append(0.5*y_next.T@Q@y_next + q.T@y_next)\n",
    "        \n",
    "        if ((y - x_next).T @ (x_next - x) > 0):\n",
    "            break\n",
    "        \n",
    "        x = x_next\n",
    "        theta = theta_next\n",
    "        y = y_next\n",
    "        \n",
    "        if count > iterations:\n",
    "            break\n",
    "        \n",
    "    if count > iterations:\n",
    "        break\n",
    "        \n",
    "    "
   ]
  },
  {
   "cell_type": "code",
   "execution_count": 256,
   "metadata": {},
   "outputs": [
    {
     "data": {
      "text/plain": [
       "<matplotlib.legend.Legend at 0x1e6b6dd8920>"
      ]
     },
     "execution_count": 256,
     "metadata": {},
     "output_type": "execute_result"
    },
    {
     "data": {
      "image/png": "[encoded data removed]",
      "text/plain": [
       "<Figure size 640x480 with 1 Axes>"
      ]
     },
     "metadata": {},
     "output_type": "display_data"
    }
   ],
   "source": [
    "plt.plot(abs((obj_proj_grad_func_rest - obj_cvxpy)/obj_cvxpy), label=\"function restart\", color='red')\n",
    "plt.plot(abs((obj_proj_grad_grad_rest - obj_cvxpy)/obj_cvxpy), label='gradient restart', color='lime')\n",
    "plt.plot(abs((obj_proj_grad - obj_cvxpy)/obj_cvxpy), label='projected gradient', color='grey')\n",
    "plt.plot(abs((obj_proj_grad_acc - obj_cvxpy)/obj_cvxpy), label='accelerated proj. grad.', color='blue')\n",
    "\n",
    "plt.yscale('log')\n",
    "plt.legend()\n"
   ]
  }
 ],
 "metadata": {
  "kernelspec": {
   "display_name": "Python 3",
   "language": "python",
   "name": "python3"
  },
  "language_info": {
   "codemirror_mode": {
    "name": "ipython",
    "version": 3
   },
   "file_extension": ".py",
   "mimetype": "text/x-python",
   "name": "python",
   "nbconvert_exporter": "python",
   "pygments_lexer": "ipython3",
   "version": "3.12.7"
  }
 },
 "nbformat": 4,
 "nbformat_minor": 2
}
